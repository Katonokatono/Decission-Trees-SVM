{
  "nbformat": 4,
  "nbformat_minor": 0,
  "metadata": {
    "colab": {
      "name": "Moringa_School_IPWeek_8_2021_Greg_Katono.ipynb",
      "provenance": [],
      "collapsed_sections": []
    },
    "kernelspec": {
      "name": "python3",
      "display_name": "Python 3"
    },
    "language_info": {
      "name": "python"
    }
  },
  "cells": [
    {
      "cell_type": "markdown",
      "metadata": {
        "id": "Qilb3B9FmBQf"
      },
      "source": [
        "## ***Defining the Question***\n",
        "Provided with the dataset from Nairobi Hospital, your are task to build a model that determines whether or not the patient's symptoms indicate that the patient has hypothyroid."
      ]
    },
    {
      "cell_type": "markdown",
      "metadata": {
        "id": "CCCYH6exmfY7"
      },
      "source": [
        "## ***Metric For Success***\n",
        "The Metric of Sucess will be to find a decission tree model to determine whether or not a patient has hypothyroid based on the patient's symptoms."
      ]
    },
    {
      "cell_type": "markdown",
      "metadata": {
        "id": "x7v7nYKbpe4n"
      },
      "source": [
        "## ***Context***\n",
        "Hypothyroid is a condition in which your thyroid gland doesn't produce enough of certain crucial hormones. An example of the crucial hormone is thyroxin which plays vital roles in digestion, heart and muscle function, brain development and maintenance of bones.With that stated, Nairobi Hospital conducted a clinical camp to test for hypothyroidism."
      ]
    },
    {
      "cell_type": "markdown",
      "metadata": {
        "id": "kNejJNi4qc75"
      },
      "source": [
        "## ***Experimental Design***\n",
        "\n",
        "\n",
        "The experimental design for this project was in adherence to the CRISP-DM methodology.It will follow the CRISP-DM steps which are:\n",
        "\n",
        "1.Problem Understanding\n",
        "\n",
        "2.Data Understanding\n",
        "\n",
        "3.Data Preparation\n",
        "\n",
        "4.Modelling\n",
        "\n",
        "5.Evaluation\n"
      ]
    },
    {
      "cell_type": "markdown",
      "metadata": {
        "id": "SaghEyDXrBa9"
      },
      "source": [
        "## **Data Relevance**\n",
        "The health care dataset is relevant to build a model that determines whether or not the patient's symptoms indicate that the patient has hypothyroid."
      ]
    },
    {
      "cell_type": "markdown",
      "metadata": {
        "id": "smIvdX1TsMTz"
      },
      "source": [
        "***Import the libraries***"
      ]
    },
    {
      "cell_type": "code",
      "metadata": {
        "id": "-iGtEj5XsUEO"
      },
      "source": [
        "#ILl first import the necessary libraries\n",
        "import pandas as pd\n",
        "import numpy as np\n",
        "import seaborn as sns\n",
        "import matplotlib.pyplot as plt\n",
        "%matplotlib inline\n",
        "from sklearn.decomposition import PCA\n",
        "from sklearn.model_selection import train_test_split, GridSearchCV, RandomizedSearchCV\n",
        "from sklearn import metrics\n",
        "from sklearn.preprocessing import LabelEncoder, StandardScaler, MinMaxScaler\n",
        "from sklearn.ensemble import RandomForestClassifier, \\\n",
        "GradientBoostingClassifier, AdaBoostClassifier\n",
        "from sklearn.svm import SVC\n",
        "from sklearn.tree import export_graphviz\n",
        "from sklearn.externals.six import StringIO\n",
        "from IPython.display import Image\n",
        "import pydotplus\n",
        "import warnings\n",
        "warnings.filterwarnings('ignore') "
      ],
      "execution_count": 166,
      "outputs": []
    },
    {
      "cell_type": "code",
      "metadata": {
        "colab": {
          "base_uri": "https://localhost:8080/",
          "height": 224
        },
        "id": "aggDR8koBpOy",
        "outputId": "0b29ab5e-3d04-40ac-f804-7791806598ee"
      },
      "source": [
        "#ILl then load the dataset\n",
        "df = pd.read_csv('http://bit.ly/hypothyroid_data')\n",
        "df.head()"
      ],
      "execution_count": 167,
      "outputs": [
        {
          "output_type": "execute_result",
          "data": {
            "text/html": [
              "<div>\n",
              "<style scoped>\n",
              "    .dataframe tbody tr th:only-of-type {\n",
              "        vertical-align: middle;\n",
              "    }\n",
              "\n",
              "    .dataframe tbody tr th {\n",
              "        vertical-align: top;\n",
              "    }\n",
              "\n",
              "    .dataframe thead th {\n",
              "        text-align: right;\n",
              "    }\n",
              "</style>\n",
              "<table border=\"1\" class=\"dataframe\">\n",
              "  <thead>\n",
              "    <tr style=\"text-align: right;\">\n",
              "      <th></th>\n",
              "      <th>status</th>\n",
              "      <th>age</th>\n",
              "      <th>sex</th>\n",
              "      <th>on_thyroxine</th>\n",
              "      <th>query_on_thyroxine</th>\n",
              "      <th>on_antithyroid_medication</th>\n",
              "      <th>thyroid_surgery</th>\n",
              "      <th>query_hypothyroid</th>\n",
              "      <th>query_hyperthyroid</th>\n",
              "      <th>pregnant</th>\n",
              "      <th>sick</th>\n",
              "      <th>tumor</th>\n",
              "      <th>lithium</th>\n",
              "      <th>goitre</th>\n",
              "      <th>TSH_measured</th>\n",
              "      <th>TSH</th>\n",
              "      <th>T3_measured</th>\n",
              "      <th>T3</th>\n",
              "      <th>TT4_measured</th>\n",
              "      <th>TT4</th>\n",
              "      <th>T4U_measured</th>\n",
              "      <th>T4U</th>\n",
              "      <th>FTI_measured</th>\n",
              "      <th>FTI</th>\n",
              "      <th>TBG_measured</th>\n",
              "      <th>TBG</th>\n",
              "    </tr>\n",
              "  </thead>\n",
              "  <tbody>\n",
              "    <tr>\n",
              "      <th>0</th>\n",
              "      <td>hypothyroid</td>\n",
              "      <td>72</td>\n",
              "      <td>M</td>\n",
              "      <td>f</td>\n",
              "      <td>f</td>\n",
              "      <td>f</td>\n",
              "      <td>f</td>\n",
              "      <td>f</td>\n",
              "      <td>f</td>\n",
              "      <td>f</td>\n",
              "      <td>f</td>\n",
              "      <td>f</td>\n",
              "      <td>f</td>\n",
              "      <td>f</td>\n",
              "      <td>y</td>\n",
              "      <td>30</td>\n",
              "      <td>y</td>\n",
              "      <td>0.60</td>\n",
              "      <td>y</td>\n",
              "      <td>15</td>\n",
              "      <td>y</td>\n",
              "      <td>1.48</td>\n",
              "      <td>y</td>\n",
              "      <td>10</td>\n",
              "      <td>n</td>\n",
              "      <td>?</td>\n",
              "    </tr>\n",
              "    <tr>\n",
              "      <th>1</th>\n",
              "      <td>hypothyroid</td>\n",
              "      <td>15</td>\n",
              "      <td>F</td>\n",
              "      <td>t</td>\n",
              "      <td>f</td>\n",
              "      <td>f</td>\n",
              "      <td>f</td>\n",
              "      <td>f</td>\n",
              "      <td>f</td>\n",
              "      <td>f</td>\n",
              "      <td>f</td>\n",
              "      <td>f</td>\n",
              "      <td>f</td>\n",
              "      <td>f</td>\n",
              "      <td>y</td>\n",
              "      <td>145</td>\n",
              "      <td>y</td>\n",
              "      <td>1.70</td>\n",
              "      <td>y</td>\n",
              "      <td>19</td>\n",
              "      <td>y</td>\n",
              "      <td>1.13</td>\n",
              "      <td>y</td>\n",
              "      <td>17</td>\n",
              "      <td>n</td>\n",
              "      <td>?</td>\n",
              "    </tr>\n",
              "    <tr>\n",
              "      <th>2</th>\n",
              "      <td>hypothyroid</td>\n",
              "      <td>24</td>\n",
              "      <td>M</td>\n",
              "      <td>f</td>\n",
              "      <td>f</td>\n",
              "      <td>f</td>\n",
              "      <td>f</td>\n",
              "      <td>f</td>\n",
              "      <td>f</td>\n",
              "      <td>f</td>\n",
              "      <td>f</td>\n",
              "      <td>f</td>\n",
              "      <td>f</td>\n",
              "      <td>f</td>\n",
              "      <td>y</td>\n",
              "      <td>0</td>\n",
              "      <td>y</td>\n",
              "      <td>0.20</td>\n",
              "      <td>y</td>\n",
              "      <td>4</td>\n",
              "      <td>y</td>\n",
              "      <td>1</td>\n",
              "      <td>y</td>\n",
              "      <td>0</td>\n",
              "      <td>n</td>\n",
              "      <td>?</td>\n",
              "    </tr>\n",
              "    <tr>\n",
              "      <th>3</th>\n",
              "      <td>hypothyroid</td>\n",
              "      <td>24</td>\n",
              "      <td>F</td>\n",
              "      <td>f</td>\n",
              "      <td>f</td>\n",
              "      <td>f</td>\n",
              "      <td>f</td>\n",
              "      <td>f</td>\n",
              "      <td>f</td>\n",
              "      <td>f</td>\n",
              "      <td>f</td>\n",
              "      <td>f</td>\n",
              "      <td>f</td>\n",
              "      <td>f</td>\n",
              "      <td>y</td>\n",
              "      <td>430</td>\n",
              "      <td>y</td>\n",
              "      <td>0.40</td>\n",
              "      <td>y</td>\n",
              "      <td>6</td>\n",
              "      <td>y</td>\n",
              "      <td>1.04</td>\n",
              "      <td>y</td>\n",
              "      <td>6</td>\n",
              "      <td>n</td>\n",
              "      <td>?</td>\n",
              "    </tr>\n",
              "    <tr>\n",
              "      <th>4</th>\n",
              "      <td>hypothyroid</td>\n",
              "      <td>77</td>\n",
              "      <td>M</td>\n",
              "      <td>f</td>\n",
              "      <td>f</td>\n",
              "      <td>f</td>\n",
              "      <td>f</td>\n",
              "      <td>f</td>\n",
              "      <td>f</td>\n",
              "      <td>f</td>\n",
              "      <td>f</td>\n",
              "      <td>f</td>\n",
              "      <td>f</td>\n",
              "      <td>f</td>\n",
              "      <td>y</td>\n",
              "      <td>7.30</td>\n",
              "      <td>y</td>\n",
              "      <td>1.20</td>\n",
              "      <td>y</td>\n",
              "      <td>57</td>\n",
              "      <td>y</td>\n",
              "      <td>1.28</td>\n",
              "      <td>y</td>\n",
              "      <td>44</td>\n",
              "      <td>n</td>\n",
              "      <td>?</td>\n",
              "    </tr>\n",
              "  </tbody>\n",
              "</table>\n",
              "</div>"
            ],
            "text/plain": [
              "        status age sex on_thyroxine  ... FTI_measured FTI TBG_measured TBG\n",
              "0  hypothyroid  72   M            f  ...            y  10            n   ?\n",
              "1  hypothyroid  15   F            t  ...            y  17            n   ?\n",
              "2  hypothyroid  24   M            f  ...            y   0            n   ?\n",
              "3  hypothyroid  24   F            f  ...            y   6            n   ?\n",
              "4  hypothyroid  77   M            f  ...            y  44            n   ?\n",
              "\n",
              "[5 rows x 26 columns]"
            ]
          },
          "metadata": {
            "tags": []
          },
          "execution_count": 167
        }
      ]
    },
    {
      "cell_type": "code",
      "metadata": {
        "colab": {
          "base_uri": "https://localhost:8080/",
          "height": 224
        },
        "id": "IqidyaFwCF3t",
        "outputId": "6a935a9d-857c-4e54-8ff6-ed65cd0b534f"
      },
      "source": [
        "#Ill then check the tail of the dataset\n",
        "df.tail()"
      ],
      "execution_count": 168,
      "outputs": [
        {
          "output_type": "execute_result",
          "data": {
            "text/html": [
              "<div>\n",
              "<style scoped>\n",
              "    .dataframe tbody tr th:only-of-type {\n",
              "        vertical-align: middle;\n",
              "    }\n",
              "\n",
              "    .dataframe tbody tr th {\n",
              "        vertical-align: top;\n",
              "    }\n",
              "\n",
              "    .dataframe thead th {\n",
              "        text-align: right;\n",
              "    }\n",
              "</style>\n",
              "<table border=\"1\" class=\"dataframe\">\n",
              "  <thead>\n",
              "    <tr style=\"text-align: right;\">\n",
              "      <th></th>\n",
              "      <th>status</th>\n",
              "      <th>age</th>\n",
              "      <th>sex</th>\n",
              "      <th>on_thyroxine</th>\n",
              "      <th>query_on_thyroxine</th>\n",
              "      <th>on_antithyroid_medication</th>\n",
              "      <th>thyroid_surgery</th>\n",
              "      <th>query_hypothyroid</th>\n",
              "      <th>query_hyperthyroid</th>\n",
              "      <th>pregnant</th>\n",
              "      <th>sick</th>\n",
              "      <th>tumor</th>\n",
              "      <th>lithium</th>\n",
              "      <th>goitre</th>\n",
              "      <th>TSH_measured</th>\n",
              "      <th>TSH</th>\n",
              "      <th>T3_measured</th>\n",
              "      <th>T3</th>\n",
              "      <th>TT4_measured</th>\n",
              "      <th>TT4</th>\n",
              "      <th>T4U_measured</th>\n",
              "      <th>T4U</th>\n",
              "      <th>FTI_measured</th>\n",
              "      <th>FTI</th>\n",
              "      <th>TBG_measured</th>\n",
              "      <th>TBG</th>\n",
              "    </tr>\n",
              "  </thead>\n",
              "  <tbody>\n",
              "    <tr>\n",
              "      <th>3158</th>\n",
              "      <td>negative</td>\n",
              "      <td>58</td>\n",
              "      <td>F</td>\n",
              "      <td>f</td>\n",
              "      <td>f</td>\n",
              "      <td>f</td>\n",
              "      <td>f</td>\n",
              "      <td>f</td>\n",
              "      <td>f</td>\n",
              "      <td>f</td>\n",
              "      <td>f</td>\n",
              "      <td>f</td>\n",
              "      <td>f</td>\n",
              "      <td>f</td>\n",
              "      <td>y</td>\n",
              "      <td>5.80</td>\n",
              "      <td>y</td>\n",
              "      <td>1.70</td>\n",
              "      <td>y</td>\n",
              "      <td>86</td>\n",
              "      <td>y</td>\n",
              "      <td>0.91</td>\n",
              "      <td>y</td>\n",
              "      <td>95</td>\n",
              "      <td>n</td>\n",
              "      <td>?</td>\n",
              "    </tr>\n",
              "    <tr>\n",
              "      <th>3159</th>\n",
              "      <td>negative</td>\n",
              "      <td>29</td>\n",
              "      <td>F</td>\n",
              "      <td>f</td>\n",
              "      <td>f</td>\n",
              "      <td>f</td>\n",
              "      <td>f</td>\n",
              "      <td>f</td>\n",
              "      <td>f</td>\n",
              "      <td>f</td>\n",
              "      <td>f</td>\n",
              "      <td>f</td>\n",
              "      <td>f</td>\n",
              "      <td>f</td>\n",
              "      <td>y</td>\n",
              "      <td>0.80</td>\n",
              "      <td>y</td>\n",
              "      <td>1.80</td>\n",
              "      <td>y</td>\n",
              "      <td>99</td>\n",
              "      <td>y</td>\n",
              "      <td>1.01</td>\n",
              "      <td>y</td>\n",
              "      <td>98</td>\n",
              "      <td>n</td>\n",
              "      <td>?</td>\n",
              "    </tr>\n",
              "    <tr>\n",
              "      <th>3160</th>\n",
              "      <td>negative</td>\n",
              "      <td>77</td>\n",
              "      <td>M</td>\n",
              "      <td>f</td>\n",
              "      <td>f</td>\n",
              "      <td>f</td>\n",
              "      <td>f</td>\n",
              "      <td>f</td>\n",
              "      <td>f</td>\n",
              "      <td>f</td>\n",
              "      <td>f</td>\n",
              "      <td>f</td>\n",
              "      <td>f</td>\n",
              "      <td>f</td>\n",
              "      <td>y</td>\n",
              "      <td>1.20</td>\n",
              "      <td>y</td>\n",
              "      <td>0.60</td>\n",
              "      <td>y</td>\n",
              "      <td>71</td>\n",
              "      <td>y</td>\n",
              "      <td>0.68</td>\n",
              "      <td>y</td>\n",
              "      <td>104</td>\n",
              "      <td>n</td>\n",
              "      <td>?</td>\n",
              "    </tr>\n",
              "    <tr>\n",
              "      <th>3161</th>\n",
              "      <td>negative</td>\n",
              "      <td>74</td>\n",
              "      <td>F</td>\n",
              "      <td>f</td>\n",
              "      <td>f</td>\n",
              "      <td>f</td>\n",
              "      <td>f</td>\n",
              "      <td>f</td>\n",
              "      <td>f</td>\n",
              "      <td>f</td>\n",
              "      <td>f</td>\n",
              "      <td>f</td>\n",
              "      <td>f</td>\n",
              "      <td>f</td>\n",
              "      <td>y</td>\n",
              "      <td>1.30</td>\n",
              "      <td>y</td>\n",
              "      <td>0.10</td>\n",
              "      <td>y</td>\n",
              "      <td>65</td>\n",
              "      <td>y</td>\n",
              "      <td>0.48</td>\n",
              "      <td>y</td>\n",
              "      <td>137</td>\n",
              "      <td>n</td>\n",
              "      <td>?</td>\n",
              "    </tr>\n",
              "    <tr>\n",
              "      <th>3162</th>\n",
              "      <td>negative</td>\n",
              "      <td>56</td>\n",
              "      <td>F</td>\n",
              "      <td>t</td>\n",
              "      <td>f</td>\n",
              "      <td>f</td>\n",
              "      <td>f</td>\n",
              "      <td>f</td>\n",
              "      <td>f</td>\n",
              "      <td>f</td>\n",
              "      <td>f</td>\n",
              "      <td>f</td>\n",
              "      <td>f</td>\n",
              "      <td>f</td>\n",
              "      <td>y</td>\n",
              "      <td>0</td>\n",
              "      <td>y</td>\n",
              "      <td>1.80</td>\n",
              "      <td>y</td>\n",
              "      <td>139</td>\n",
              "      <td>y</td>\n",
              "      <td>0.97</td>\n",
              "      <td>y</td>\n",
              "      <td>143</td>\n",
              "      <td>n</td>\n",
              "      <td>?</td>\n",
              "    </tr>\n",
              "  </tbody>\n",
              "</table>\n",
              "</div>"
            ],
            "text/plain": [
              "        status age sex on_thyroxine  ... FTI_measured  FTI TBG_measured TBG\n",
              "3158  negative  58   F            f  ...            y   95            n   ?\n",
              "3159  negative  29   F            f  ...            y   98            n   ?\n",
              "3160  negative  77   M            f  ...            y  104            n   ?\n",
              "3161  negative  74   F            f  ...            y  137            n   ?\n",
              "3162  negative  56   F            t  ...            y  143            n   ?\n",
              "\n",
              "[5 rows x 26 columns]"
            ]
          },
          "metadata": {
            "tags": []
          },
          "execution_count": 168
        }
      ]
    },
    {
      "cell_type": "code",
      "metadata": {
        "colab": {
          "base_uri": "https://localhost:8080/"
        },
        "id": "yVZezudICMyp",
        "outputId": "99b57845-7e40-4c22-fbf7-a8774da29775"
      },
      "source": [
        "#Ill check the the shape of the dataset\n",
        "df.shape\n",
        "# The output is 3163 rows and 26 columns"
      ],
      "execution_count": 169,
      "outputs": [
        {
          "output_type": "execute_result",
          "data": {
            "text/plain": [
              "(3163, 26)"
            ]
          },
          "metadata": {
            "tags": []
          },
          "execution_count": 169
        }
      ]
    },
    {
      "cell_type": "code",
      "metadata": {
        "colab": {
          "base_uri": "https://localhost:8080/"
        },
        "id": "ZGLOu0NYCb10",
        "outputId": "fdcb534d-e5e5-4229-dc02-679091f0cc7e"
      },
      "source": [
        "# Ill then use the .info() function which prints information about a DataFrame \n",
        "df.info()"
      ],
      "execution_count": 170,
      "outputs": [
        {
          "output_type": "stream",
          "text": [
            "<class 'pandas.core.frame.DataFrame'>\n",
            "RangeIndex: 3163 entries, 0 to 3162\n",
            "Data columns (total 26 columns):\n",
            " #   Column                     Non-Null Count  Dtype \n",
            "---  ------                     --------------  ----- \n",
            " 0   status                     3163 non-null   object\n",
            " 1   age                        3163 non-null   object\n",
            " 2   sex                        3163 non-null   object\n",
            " 3   on_thyroxine               3163 non-null   object\n",
            " 4   query_on_thyroxine         3163 non-null   object\n",
            " 5   on_antithyroid_medication  3163 non-null   object\n",
            " 6   thyroid_surgery            3163 non-null   object\n",
            " 7   query_hypothyroid          3163 non-null   object\n",
            " 8   query_hyperthyroid         3163 non-null   object\n",
            " 9   pregnant                   3163 non-null   object\n",
            " 10  sick                       3163 non-null   object\n",
            " 11  tumor                      3163 non-null   object\n",
            " 12  lithium                    3163 non-null   object\n",
            " 13  goitre                     3163 non-null   object\n",
            " 14  TSH_measured               3163 non-null   object\n",
            " 15  TSH                        3163 non-null   object\n",
            " 16  T3_measured                3163 non-null   object\n",
            " 17  T3                         3163 non-null   object\n",
            " 18  TT4_measured               3163 non-null   object\n",
            " 19  TT4                        3163 non-null   object\n",
            " 20  T4U_measured               3163 non-null   object\n",
            " 21  T4U                        3163 non-null   object\n",
            " 22  FTI_measured               3163 non-null   object\n",
            " 23  FTI                        3163 non-null   object\n",
            " 24  TBG_measured               3163 non-null   object\n",
            " 25  TBG                        3163 non-null   object\n",
            "dtypes: object(26)\n",
            "memory usage: 642.6+ KB\n"
          ],
          "name": "stdout"
        }
      ]
    },
    {
      "cell_type": "markdown",
      "metadata": {
        "id": "IC697F-JDkAB"
      },
      "source": [
        "The .info() function shows index dtype and column dtypes, non-null values and memory usage.\n"
      ]
    },
    {
      "cell_type": "markdown",
      "metadata": {
        "id": "t4Pl5YfgFr5j"
      },
      "source": [
        "## ***Data Cleaning***"
      ]
    },
    {
      "cell_type": "code",
      "metadata": {
        "id": "Qa4w3YldPkZa"
      },
      "source": [
        "#ILl then ensure uniformity in my data by changing the column names to lowercase\n",
        "df.columns = map(str.lower,df.columns)\n"
      ],
      "execution_count": 171,
      "outputs": []
    },
    {
      "cell_type": "code",
      "metadata": {
        "colab": {
          "base_uri": "https://localhost:8080/"
        },
        "id": "_vLKGMk7Q5BD",
        "outputId": "a674966c-c672-4997-bdbd-a857bc1fe9b8"
      },
      "source": [
        "#ILl then change the column names to small leter\n",
        "df.columns"
      ],
      "execution_count": 172,
      "outputs": [
        {
          "output_type": "execute_result",
          "data": {
            "text/plain": [
              "Index(['status', 'age', 'sex', 'on_thyroxine', 'query_on_thyroxine',\n",
              "       'on_antithyroid_medication', 'thyroid_surgery', 'query_hypothyroid',\n",
              "       'query_hyperthyroid', 'pregnant', 'sick', 'tumor', 'lithium', 'goitre',\n",
              "       'tsh_measured', 'tsh', 't3_measured', 't3', 'tt4_measured', 'tt4',\n",
              "       't4u_measured', 't4u', 'fti_measured', 'fti', 'tbg_measured', 'tbg'],\n",
              "      dtype='object')"
            ]
          },
          "metadata": {
            "tags": []
          },
          "execution_count": 172
        }
      ]
    },
    {
      "cell_type": "code",
      "metadata": {
        "colab": {
          "base_uri": "https://localhost:8080/"
        },
        "id": "4AYFE-IRDJFw",
        "outputId": "ef1bf5b1-1999-4da3-9676-73266657e21d"
      },
      "source": [
        "#Ill then check for nulls in the dataset\n",
        "df.isnull().sum()\n"
      ],
      "execution_count": 173,
      "outputs": [
        {
          "output_type": "execute_result",
          "data": {
            "text/plain": [
              "status                       0\n",
              "age                          0\n",
              "sex                          0\n",
              "on_thyroxine                 0\n",
              "query_on_thyroxine           0\n",
              "on_antithyroid_medication    0\n",
              "thyroid_surgery              0\n",
              "query_hypothyroid            0\n",
              "query_hyperthyroid           0\n",
              "pregnant                     0\n",
              "sick                         0\n",
              "tumor                        0\n",
              "lithium                      0\n",
              "goitre                       0\n",
              "tsh_measured                 0\n",
              "tsh                          0\n",
              "t3_measured                  0\n",
              "t3                           0\n",
              "tt4_measured                 0\n",
              "tt4                          0\n",
              "t4u_measured                 0\n",
              "t4u                          0\n",
              "fti_measured                 0\n",
              "fti                          0\n",
              "tbg_measured                 0\n",
              "tbg                          0\n",
              "dtype: int64"
            ]
          },
          "metadata": {
            "tags": []
          },
          "execution_count": 173
        }
      ]
    },
    {
      "cell_type": "markdown",
      "metadata": {
        "id": "Mn8TZ19oDcTV"
      },
      "source": [
        "Output shows no null values"
      ]
    },
    {
      "cell_type": "code",
      "metadata": {
        "colab": {
          "base_uri": "https://localhost:8080/"
        },
        "id": "po50lWqwEPlv",
        "outputId": "0d166341-0ef1-48c1-b85b-093049b861c2"
      },
      "source": [
        "#Ill then check for unique values in the dataset\n",
        "#ILl use the for loop function to iterate through the column names\n",
        "for column in df.columns:\n",
        "  print(column)                                        \n",
        "  print(df[column].unique())                           \n",
        "  print(\"Their are\", df[column].nunique(),\"unique values in this column\")\n",
        "  #spacing purposes the \"********\"    \n",
        "  print(\"***************************************************\")                      \n"
      ],
      "execution_count": 174,
      "outputs": [
        {
          "output_type": "stream",
          "text": [
            "status\n",
            "['hypothyroid' 'negative']\n",
            "Their are 2 unique values in this column\n",
            "***************************************************\n",
            "age\n",
            "['72' '15' '24' '77' '85' '64' '20' '42' '69' '75' '53' '59' '68' '50'\n",
            " '78' '65' '28' '43' '40' '84' '?' '83' '63' '73' '36' '27' '48' '71' '60'\n",
            " '34' '79' '62' '74' '32' '41' '70' '29' '5' '58' '35' '51' '22' '16' '44'\n",
            " '39' '47' '18' '17' '88' '56' '30' '45' '66' '52' '54' '80' '33' '38'\n",
            " '92' '67' '46' '13' '89' '61' '49' '26' '57' '31' '90' '81' '25' '37'\n",
            " '76' '87' '23' '55' '86' '98' '21' '97' '1' '6' '14' '82' '11' '19' '9'\n",
            " '12' '10' '8' '7' '4' '93']\n",
            "Their are 93 unique values in this column\n",
            "***************************************************\n",
            "sex\n",
            "['M' 'F' '?']\n",
            "Their are 3 unique values in this column\n",
            "***************************************************\n",
            "on_thyroxine\n",
            "['f' 't']\n",
            "Their are 2 unique values in this column\n",
            "***************************************************\n",
            "query_on_thyroxine\n",
            "['f' 't']\n",
            "Their are 2 unique values in this column\n",
            "***************************************************\n",
            "on_antithyroid_medication\n",
            "['f' 't']\n",
            "Their are 2 unique values in this column\n",
            "***************************************************\n",
            "thyroid_surgery\n",
            "['f' 't']\n",
            "Their are 2 unique values in this column\n",
            "***************************************************\n",
            "query_hypothyroid\n",
            "['f' 't']\n",
            "Their are 2 unique values in this column\n",
            "***************************************************\n",
            "query_hyperthyroid\n",
            "['f' 't']\n",
            "Their are 2 unique values in this column\n",
            "***************************************************\n",
            "pregnant\n",
            "['f' 't']\n",
            "Their are 2 unique values in this column\n",
            "***************************************************\n",
            "sick\n",
            "['f' 't']\n",
            "Their are 2 unique values in this column\n",
            "***************************************************\n",
            "tumor\n",
            "['f' 't']\n",
            "Their are 2 unique values in this column\n",
            "***************************************************\n",
            "lithium\n",
            "['f' 't']\n",
            "Their are 2 unique values in this column\n",
            "***************************************************\n",
            "goitre\n",
            "['f' 't']\n",
            "Their are 2 unique values in this column\n",
            "***************************************************\n",
            "tsh_measured\n",
            "['y' 'n']\n",
            "Their are 2 unique values in this column\n",
            "***************************************************\n",
            "tsh\n",
            "['30' '145' '0' '430' '7.30' '138' '7.70' '21' '92' '48' '36' '15' '15.30'\n",
            " '25' '61' '28' '170' '54' '216' '56' '71' '46' '70' '34' '53' '9.40'\n",
            " '126' '10' '530' '35' '65' '57' '125' '23' '80' '117' '49' '66' '8.20'\n",
            " '150' '?' '18' '165' '164' '24' '90' '77' '19' '58' '100' '213' '17'\n",
            " '235' '153' '13' '31' '109' '260' '43' '12' '11' '55' '6.50' '20' '7.50'\n",
            " '14' '60' '140' '33' '8.70' '0.25' '10.70' '82' '45' '42' '41' '160' '16'\n",
            " '89' '44' '176' '6.40' '183' '29' '37' '39' '7.90' '59' '68' '38' '47'\n",
            " '143' '6.60' '288' '96' '0.50' '1.20' '1.90' '0.09' '3.10' '0.40' '0.85'\n",
            " '0.30' '0.90' '1.50' '4.60' '0.20' '5.80' '4' '1.40' '2' '2.60' '2.90'\n",
            " '0.80' '4.90' '10.30' '2.30' '0.70' '0.60' '1.30' '2.50' '5.10' '1.70'\n",
            " '2.70' '22' '8.10' '3.30' '5' '3.20' '1.80' '1.10' '0.46' '1' '5.60'\n",
            " '4.40' '16.50' '2.10' '6.30' '5.50' '7.40' '5.90' '0.15' '14.90' '2.20'\n",
            " '9.70' '9.60' '1.60' '3.70' '3' '2.80' '0.10' '4.20' '27' '3.50' '0.05'\n",
            " '19.20' '8' '9.10' '3.60' '7.80' '3.80' '8.50' '9.20' '52' '2.40' '3.90'\n",
            " '0.03' '0.04' '26' '6.10' '0.65' '0.92' '7.60' '8.40' '14.40' '1.05'\n",
            " '0.37' '178' '6.90' '4.50' '4.70' '40' '6' '4.10' '14.30' '5.40' '8.30'\n",
            " '0.06' '8.80' '8.90' '7.10' '4.80' '0.43' '6.70' '200' '8.60' '86' '0.21'\n",
            " '9' '0.26' '3.40' '6.20' '17.40' '85' '1.83' '63' '13.30' '0.02' '0.42'\n",
            " '9.50' '0.84' '0.88' '4.30' '0.67' '0.81' '5.20' '9.80' '76' '0.62'\n",
            " '0.01' '11.40' '88' '0.68' '0.07' '0.69' '0.77' '9.90' '0.64' '13.20'\n",
            " '6.80' '0.28' '11.60' '0.91' '1.01' '0.23' '0.35' '50' '32' '0.83' '0.08']\n",
            "Their are 240 unique values in this column\n",
            "***************************************************\n",
            "t3_measured\n",
            "['y' 'n']\n",
            "Their are 2 unique values in this column\n",
            "***************************************************\n",
            "t3\n",
            "['0.60' '1.70' '0.20' '0.40' '1.20' '1.10' '1.30' '1.90' '?' '0.80' '2.20'\n",
            " '1.50' '2.70' '2' '0.30' '2.10' '0.50' '0.70' '1' '1.40' '2.30' '2.40'\n",
            " '0.90' '1.80' '0' '2.80' '1.60' '6.70' '3.30' '3' '2.50' '2.60' '4'\n",
            " '9.80' '3.90' '3.40' '3.80' '4.50' '3.20' '3.70' '4.30' '2.90' '3.10'\n",
            " '3.50' '3.60' '6.60' '4.90' '8.90' '4.10' '5' '5.30' '7.60' '7.30' '4.20'\n",
            " '4.40' '5.10' '7' '0.10' '0.05' '4.70' '6.20' '5.50' '4.60' '6.10' '8.10'\n",
            " '5.20' '5.60' '4.80' '10.20' '8.60']\n",
            "Their are 70 unique values in this column\n",
            "***************************************************\n",
            "tt4_measured\n",
            "['y' 'n']\n",
            "Their are 2 unique values in this column\n",
            "***************************************************\n",
            "tt4\n",
            "['15' '19' '4' '6' '57' '27' '54' '34' '39' '7.60' '53' '38' '98' '44'\n",
            " '37' '81' '13' '17' '12' '50' '23' '14' '3.90' '52' '32' '30' '84' '10'\n",
            " '55' '24' '28' '11' '6.60' '31' '33' '41' '9' '78' '42' '8.10' '65' '16'\n",
            " '9.70' '46' '22' '61' '2.30' '21' '7.50' '18' '66' '25' '43' '2' '3' '58'\n",
            " '59' '71' '74' '56' '40' '20' '48' '230' '70' '4.10' '63' '5.30' '2.90'\n",
            " '62' '75' '68' '45' '47' '36' '80' '109' '8.60' '83' '82' '101' '76'\n",
            " '103' '112' '206' '110' '93' '79' '121' '?' '107' '88' '187' '254' '115'\n",
            " '113' '260' '117' '164' '97' '64' '129' '111' '106' '95' '87' '105' '90'\n",
            " '67' '134' '35' '193' '143' '130' '108' '86' '96' '92' '99' '216' '152'\n",
            " '125' '138' '194' '91' '120' '102' '170' '126' '116' '140' '94' '159'\n",
            " '85' '210' '89' '151' '247' '139' '153' '178' '123' '137' '161' '7.30'\n",
            " '72' '202' '122' '124' '157' '118' '104' '135' '186' '241' '131' '119'\n",
            " '100' '220' '176' '136' '183' '155' '208' '199' '154' '169' '128' '235'\n",
            " '195' '267' '232' '197' '212' '149' '127' '245' '132' '162' '77' '142'\n",
            " '69' '173' '141' '156' '181' '189' '60' '114' '198' '147' '191' '177'\n",
            " '174' '207' '168' '73' '160' '145' '200' '182' '158' '203' '209' '217'\n",
            " '430' '213' '218' '163' '296' '167' '148' '166' '185' '248' '172' '144'\n",
            " '150' '165' '196' '308' '146' '426' '224' '29' '204' '201' '133' '180'\n",
            " '184' '450' '244' '301' '255' '252' '396' '223' '261' '250' '179' '219'\n",
            " '190' '51' '221' '171' '242' '275' '211' '49' '239' '205' '222' '256'\n",
            " '214' '282' '287' '253' '269' '175' '228' '333' '258' '236' '225' '263'\n",
            " '283' '359' '188' '240']\n",
            "Their are 269 unique values in this column\n",
            "***************************************************\n",
            "t4u_measured\n",
            "['y' 'n']\n",
            "Their are 2 unique values in this column\n",
            "***************************************************\n",
            "t4u\n",
            "['1.48' '1.13' '1' '1.04' '1.28' '1.19' '0.86' '1.05' '1.21' '1.02' '0.92'\n",
            " '1.29' '0.98' '1.08' '1.01' '1.18' '1.10' '1.27' '0.83' '1.11' '0.78'\n",
            " '1.39' '1.12' '0.93' '0.99' '0.90' '1.06' '0.68' '0.67' '1.14' '0.80'\n",
            " '0.96' '0.95' '1.46' '1.03' '0.97' '0.94' '1.09' '1.24' '1.23' '1.53'\n",
            " '1.26' '1.40' '1.17' '0.87' '0.61' '0.70' '1.07' '1.73' '1.45' '1.20'\n",
            " '0.89' '0.84' '0.91' '0.85' '1.35' '0.82' '1.50' '0.74' '1.71' '1.79'\n",
            " '0.73' '0.77' '1.25' '?' '0.88' '0.72' '0.31' '0' '0.79' '0.81' '0.71'\n",
            " '1.93' '1.32' '0.66' '1.68' '1.42' '1.70' '1.83' '1.41' '1.34' '1.65'\n",
            " '1.22' '0.75' '1.74' '0.69' '1.51' '0.76' '1.16' '0.35' '0.62' '0.54'\n",
            " '1.36' '1.33' '1.30' '0.48' '1.59' '1.75' '1.86' '1.38' '1.43' '1.62'\n",
            " '2.01' '0.30' '1.31' '1.15' '1.57' '0.55' '1.66' '0.52' '1.97' '1.47'\n",
            " '0.36' '1.88' '1.55' '0.34' '1.67' '0.58' '0.60' '0.59' '1.37' '1.76'\n",
            " '0.64' '1.80' '0.41' '0.20' '1.77' '0.33' '1.54' '0.46' '0.32' '1.44'\n",
            " '1.56' '0.56' '1.52' '2.03' '0.65' '0.63' '1.96' '0.53' '0.47' '0.29'\n",
            " '2.21' '1.69' '1.64' '1.49' '1.72' '1.58' '0.57' '1.61' '0.28' '2' '1.63'\n",
            " '0.27' '1.94' '0.50' '0.49' '0.40' '0.38']\n",
            "Their are 159 unique values in this column\n",
            "***************************************************\n",
            "fti_measured\n",
            "['y' 'n']\n",
            "Their are 2 unique values in this column\n",
            "***************************************************\n",
            "fti\n",
            "['10' '17' '0' '6' '44' '23' '63' '32' '7.50' '61' '41' '76' '45' '34'\n",
            " '81' '11' '16' '46' '22' '12' '5' '47' '29' '37' '60' '8.40' '8.50' '24'\n",
            " '28' '7' '49' '36' '15' '9' '80' '53' '7.20' '68' '6.60' '48' '21' '14'\n",
            " '2' '20' '1.40' '56' '3' '51' '13' '43' '78' '52' '64' '26' '35' '31'\n",
            " '133' '3.40' '54' '8.90' '57' '5.50' '58' '55' '2.80' '66' '4' '40' '50'\n",
            " '8.70' '87' '89' '112' '123' '99' '92' '104' '69' '196' '107' '106' '74'\n",
            " '97' '?' '122' '84' '114' '124' '241' '119' '120' '136' '85' '127' '839'\n",
            " '137' '197' '96' '77' '108' '82' '72' '94' '91' '240' '121' '109' '79'\n",
            " '100' '98' '73' '117' '165' '103' '88' '101' '126' '132' '128' '143'\n",
            " '152' '141' '186' '113' '102' '125' '93' '105' '159' '188' '71' '149'\n",
            " '116' '83' '176' '161' '86' '140' '111' '158' '115' '171' '90' '95' '70'\n",
            " '135' '134' '178' '110' '170' '205' '695' '155' '118' '741' '131' '129'\n",
            " '142' '153' '75' '254' '246' '139' '185' '157' '147' '164' '130' '222'\n",
            " '650' '174' '182' '144' '169' '257' '145' '345' '180' '167' '151' '154'\n",
            " '150' '219' '228' '65' '187' '166' '195' '208' '138' '33' '173' '146'\n",
            " '211' '181' '190' '247' '221' '395' '216' '212' '148' '162' '220' '370'\n",
            " '450' '160' '59' '189' '203' '168' '179' '264' '470' '184' '163' '67'\n",
            " '213' '354' '292' '359' '172' '156' '334' '177' '214' '194' '192' '215'\n",
            " '217' '271' '250' '244' '308' '881' '258' '316' '200' '711' '256' '232'\n",
            " '202' '39' '248' '237' '259' '445' '19' '852' '42' '235' '634' '283'\n",
            " '305' '204' '229' '332' '550' '249' '263' '615' '266' '198' '175' '209'\n",
            " '299' '193' '227' '223' '337' '210' '272' '702' '218' '239' '355' '482'\n",
            " '347' '485' '612' '428']\n",
            "Their are 281 unique values in this column\n",
            "***************************************************\n",
            "tbg_measured\n",
            "['n' 'y']\n",
            "Their are 2 unique values in this column\n",
            "***************************************************\n",
            "tbg\n",
            "['?' '28' '34' '0' '19' '30' '25' '48' '39' '31' '16' '21' '37' '40' '27'\n",
            " '3.10' '38' '108' '20' '36' '17' '23' '35' '32' '63' '9.30' '15' '26'\n",
            " '33' '41' '110' '22' '43' '53' '80' '47' '29' '13' '24' '18' '45' '86'\n",
            " '50' '8.40' '52' '11' '12' '14' '65' '7.30' '8.50' '69' '122']\n",
            "Their are 53 unique values in this column\n",
            "***************************************************\n"
          ],
          "name": "stdout"
        }
      ]
    },
    {
      "cell_type": "markdown",
      "metadata": {
        "id": "LrJ_IOnGLzU7"
      },
      "source": [
        "After checking the unique values, I have noticed character \"?\" in some the column names. I'll convert them to nulls so that I impute them"
      ]
    },
    {
      "cell_type": "code",
      "metadata": {
        "id": "W84KyNcbMHb0"
      },
      "source": [
        "#Ill then replace the \"?\" with nan\n",
        "df = df.replace(['?'], np.nan)"
      ],
      "execution_count": 175,
      "outputs": []
    },
    {
      "cell_type": "code",
      "metadata": {
        "colab": {
          "base_uri": "https://localhost:8080/"
        },
        "id": "GqzM0623OISZ",
        "outputId": "7429fb09-d9ee-4b03-e2f6-d97c49995a1a"
      },
      "source": [
        "#Ill then check for nulls again\n",
        "df.isnull().sum()"
      ],
      "execution_count": 176,
      "outputs": [
        {
          "output_type": "execute_result",
          "data": {
            "text/plain": [
              "status                          0\n",
              "age                           446\n",
              "sex                            73\n",
              "on_thyroxine                    0\n",
              "query_on_thyroxine              0\n",
              "on_antithyroid_medication       0\n",
              "thyroid_surgery                 0\n",
              "query_hypothyroid               0\n",
              "query_hyperthyroid              0\n",
              "pregnant                        0\n",
              "sick                            0\n",
              "tumor                           0\n",
              "lithium                         0\n",
              "goitre                          0\n",
              "tsh_measured                    0\n",
              "tsh                           468\n",
              "t3_measured                     0\n",
              "t3                            695\n",
              "tt4_measured                    0\n",
              "tt4                           249\n",
              "t4u_measured                    0\n",
              "t4u                           248\n",
              "fti_measured                    0\n",
              "fti                           247\n",
              "tbg_measured                    0\n",
              "tbg                          2903\n",
              "dtype: int64"
            ]
          },
          "metadata": {
            "tags": []
          },
          "execution_count": 176
        }
      ]
    },
    {
      "cell_type": "code",
      "metadata": {
        "id": "WdxKfuaAVesD"
      },
      "source": [
        "#Ill then drop the \"tbg\" column since it has many null values\n",
        "df.drop(['tbg', 'tbg_measured'], axis = 1, inplace = True)"
      ],
      "execution_count": 177,
      "outputs": []
    },
    {
      "cell_type": "code",
      "metadata": {
        "colab": {
          "base_uri": "https://localhost:8080/",
          "height": 224
        },
        "id": "kn4PeAJYV4Ge",
        "outputId": "e1184127-6f79-48a2-e112-7301da3c7b5a"
      },
      "source": [
        "# ILl thenconfirm if it has been dropped\n",
        "df.head()\n",
        "#They are dropped"
      ],
      "execution_count": 178,
      "outputs": [
        {
          "output_type": "execute_result",
          "data": {
            "text/html": [
              "<div>\n",
              "<style scoped>\n",
              "    .dataframe tbody tr th:only-of-type {\n",
              "        vertical-align: middle;\n",
              "    }\n",
              "\n",
              "    .dataframe tbody tr th {\n",
              "        vertical-align: top;\n",
              "    }\n",
              "\n",
              "    .dataframe thead th {\n",
              "        text-align: right;\n",
              "    }\n",
              "</style>\n",
              "<table border=\"1\" class=\"dataframe\">\n",
              "  <thead>\n",
              "    <tr style=\"text-align: right;\">\n",
              "      <th></th>\n",
              "      <th>status</th>\n",
              "      <th>age</th>\n",
              "      <th>sex</th>\n",
              "      <th>on_thyroxine</th>\n",
              "      <th>query_on_thyroxine</th>\n",
              "      <th>on_antithyroid_medication</th>\n",
              "      <th>thyroid_surgery</th>\n",
              "      <th>query_hypothyroid</th>\n",
              "      <th>query_hyperthyroid</th>\n",
              "      <th>pregnant</th>\n",
              "      <th>sick</th>\n",
              "      <th>tumor</th>\n",
              "      <th>lithium</th>\n",
              "      <th>goitre</th>\n",
              "      <th>tsh_measured</th>\n",
              "      <th>tsh</th>\n",
              "      <th>t3_measured</th>\n",
              "      <th>t3</th>\n",
              "      <th>tt4_measured</th>\n",
              "      <th>tt4</th>\n",
              "      <th>t4u_measured</th>\n",
              "      <th>t4u</th>\n",
              "      <th>fti_measured</th>\n",
              "      <th>fti</th>\n",
              "    </tr>\n",
              "  </thead>\n",
              "  <tbody>\n",
              "    <tr>\n",
              "      <th>0</th>\n",
              "      <td>hypothyroid</td>\n",
              "      <td>72</td>\n",
              "      <td>M</td>\n",
              "      <td>f</td>\n",
              "      <td>f</td>\n",
              "      <td>f</td>\n",
              "      <td>f</td>\n",
              "      <td>f</td>\n",
              "      <td>f</td>\n",
              "      <td>f</td>\n",
              "      <td>f</td>\n",
              "      <td>f</td>\n",
              "      <td>f</td>\n",
              "      <td>f</td>\n",
              "      <td>y</td>\n",
              "      <td>30</td>\n",
              "      <td>y</td>\n",
              "      <td>0.60</td>\n",
              "      <td>y</td>\n",
              "      <td>15</td>\n",
              "      <td>y</td>\n",
              "      <td>1.48</td>\n",
              "      <td>y</td>\n",
              "      <td>10</td>\n",
              "    </tr>\n",
              "    <tr>\n",
              "      <th>1</th>\n",
              "      <td>hypothyroid</td>\n",
              "      <td>15</td>\n",
              "      <td>F</td>\n",
              "      <td>t</td>\n",
              "      <td>f</td>\n",
              "      <td>f</td>\n",
              "      <td>f</td>\n",
              "      <td>f</td>\n",
              "      <td>f</td>\n",
              "      <td>f</td>\n",
              "      <td>f</td>\n",
              "      <td>f</td>\n",
              "      <td>f</td>\n",
              "      <td>f</td>\n",
              "      <td>y</td>\n",
              "      <td>145</td>\n",
              "      <td>y</td>\n",
              "      <td>1.70</td>\n",
              "      <td>y</td>\n",
              "      <td>19</td>\n",
              "      <td>y</td>\n",
              "      <td>1.13</td>\n",
              "      <td>y</td>\n",
              "      <td>17</td>\n",
              "    </tr>\n",
              "    <tr>\n",
              "      <th>2</th>\n",
              "      <td>hypothyroid</td>\n",
              "      <td>24</td>\n",
              "      <td>M</td>\n",
              "      <td>f</td>\n",
              "      <td>f</td>\n",
              "      <td>f</td>\n",
              "      <td>f</td>\n",
              "      <td>f</td>\n",
              "      <td>f</td>\n",
              "      <td>f</td>\n",
              "      <td>f</td>\n",
              "      <td>f</td>\n",
              "      <td>f</td>\n",
              "      <td>f</td>\n",
              "      <td>y</td>\n",
              "      <td>0</td>\n",
              "      <td>y</td>\n",
              "      <td>0.20</td>\n",
              "      <td>y</td>\n",
              "      <td>4</td>\n",
              "      <td>y</td>\n",
              "      <td>1</td>\n",
              "      <td>y</td>\n",
              "      <td>0</td>\n",
              "    </tr>\n",
              "    <tr>\n",
              "      <th>3</th>\n",
              "      <td>hypothyroid</td>\n",
              "      <td>24</td>\n",
              "      <td>F</td>\n",
              "      <td>f</td>\n",
              "      <td>f</td>\n",
              "      <td>f</td>\n",
              "      <td>f</td>\n",
              "      <td>f</td>\n",
              "      <td>f</td>\n",
              "      <td>f</td>\n",
              "      <td>f</td>\n",
              "      <td>f</td>\n",
              "      <td>f</td>\n",
              "      <td>f</td>\n",
              "      <td>y</td>\n",
              "      <td>430</td>\n",
              "      <td>y</td>\n",
              "      <td>0.40</td>\n",
              "      <td>y</td>\n",
              "      <td>6</td>\n",
              "      <td>y</td>\n",
              "      <td>1.04</td>\n",
              "      <td>y</td>\n",
              "      <td>6</td>\n",
              "    </tr>\n",
              "    <tr>\n",
              "      <th>4</th>\n",
              "      <td>hypothyroid</td>\n",
              "      <td>77</td>\n",
              "      <td>M</td>\n",
              "      <td>f</td>\n",
              "      <td>f</td>\n",
              "      <td>f</td>\n",
              "      <td>f</td>\n",
              "      <td>f</td>\n",
              "      <td>f</td>\n",
              "      <td>f</td>\n",
              "      <td>f</td>\n",
              "      <td>f</td>\n",
              "      <td>f</td>\n",
              "      <td>f</td>\n",
              "      <td>y</td>\n",
              "      <td>7.30</td>\n",
              "      <td>y</td>\n",
              "      <td>1.20</td>\n",
              "      <td>y</td>\n",
              "      <td>57</td>\n",
              "      <td>y</td>\n",
              "      <td>1.28</td>\n",
              "      <td>y</td>\n",
              "      <td>44</td>\n",
              "    </tr>\n",
              "  </tbody>\n",
              "</table>\n",
              "</div>"
            ],
            "text/plain": [
              "        status age sex on_thyroxine  ... t4u_measured   t4u fti_measured fti\n",
              "0  hypothyroid  72   M            f  ...            y  1.48            y  10\n",
              "1  hypothyroid  15   F            t  ...            y  1.13            y  17\n",
              "2  hypothyroid  24   M            f  ...            y     1            y   0\n",
              "3  hypothyroid  24   F            f  ...            y  1.04            y   6\n",
              "4  hypothyroid  77   M            f  ...            y  1.28            y  44\n",
              "\n",
              "[5 rows x 24 columns]"
            ]
          },
          "metadata": {
            "tags": []
          },
          "execution_count": 178
        }
      ]
    },
    {
      "cell_type": "code",
      "metadata": {
        "colab": {
          "base_uri": "https://localhost:8080/"
        },
        "id": "w8opcr3zeDbZ",
        "outputId": "fb501f6b-7326-400b-f24b-7827bed94291"
      },
      "source": [
        "# Ill then check the datatypes again \n",
        "df.dtypes\n"
      ],
      "execution_count": 179,
      "outputs": [
        {
          "output_type": "execute_result",
          "data": {
            "text/plain": [
              "status                       object\n",
              "age                          object\n",
              "sex                          object\n",
              "on_thyroxine                 object\n",
              "query_on_thyroxine           object\n",
              "on_antithyroid_medication    object\n",
              "thyroid_surgery              object\n",
              "query_hypothyroid            object\n",
              "query_hyperthyroid           object\n",
              "pregnant                     object\n",
              "sick                         object\n",
              "tumor                        object\n",
              "lithium                      object\n",
              "goitre                       object\n",
              "tsh_measured                 object\n",
              "tsh                          object\n",
              "t3_measured                  object\n",
              "t3                           object\n",
              "tt4_measured                 object\n",
              "tt4                          object\n",
              "t4u_measured                 object\n",
              "t4u                          object\n",
              "fti_measured                 object\n",
              "fti                          object\n",
              "dtype: object"
            ]
          },
          "metadata": {
            "tags": []
          },
          "execution_count": 179
        }
      ]
    },
    {
      "cell_type": "markdown",
      "metadata": {
        "id": "TO78kZlyelJB"
      },
      "source": [
        "The output shows that all the column names are of object (string). Ill fix that into appropriate data types"
      ]
    },
    {
      "cell_type": "code",
      "metadata": {
        "colab": {
          "base_uri": "https://localhost:8080/",
          "height": 224
        },
        "id": "_uiVw8GweyyR",
        "outputId": "14d98a56-d4b1-4c37-cc0c-e17ed7ff147b"
      },
      "source": [
        "\n",
        "# Ill then  use labelencoder because the categorical columns mostly have two\n",
        "# initiating the label encoder object\n",
        "labelenc = LabelEncoder()\n",
        "df['status'] = labelenc.fit_transform(df['status'])\n",
        "\n",
        "# replacing string values with numbers 0 and 1 \n",
        "# f/false is transformed to 0 and t/true is transformed to 1,\n",
        "# y/yes is transformed to 1 and n/no is transformed to 0. \n",
        "df['sex'].replace({'M':0, 'F':1}, inplace=True)\n",
        "df.replace({'f':0,'t':1, 'y':1, 'n':0}, inplace=True)\n",
        "\n",
        "# previewing the first five observations of the dataset\n",
        "df.head()\n",
        "\n"
      ],
      "execution_count": 180,
      "outputs": [
        {
          "output_type": "execute_result",
          "data": {
            "text/html": [
              "<div>\n",
              "<style scoped>\n",
              "    .dataframe tbody tr th:only-of-type {\n",
              "        vertical-align: middle;\n",
              "    }\n",
              "\n",
              "    .dataframe tbody tr th {\n",
              "        vertical-align: top;\n",
              "    }\n",
              "\n",
              "    .dataframe thead th {\n",
              "        text-align: right;\n",
              "    }\n",
              "</style>\n",
              "<table border=\"1\" class=\"dataframe\">\n",
              "  <thead>\n",
              "    <tr style=\"text-align: right;\">\n",
              "      <th></th>\n",
              "      <th>status</th>\n",
              "      <th>age</th>\n",
              "      <th>sex</th>\n",
              "      <th>on_thyroxine</th>\n",
              "      <th>query_on_thyroxine</th>\n",
              "      <th>on_antithyroid_medication</th>\n",
              "      <th>thyroid_surgery</th>\n",
              "      <th>query_hypothyroid</th>\n",
              "      <th>query_hyperthyroid</th>\n",
              "      <th>pregnant</th>\n",
              "      <th>sick</th>\n",
              "      <th>tumor</th>\n",
              "      <th>lithium</th>\n",
              "      <th>goitre</th>\n",
              "      <th>tsh_measured</th>\n",
              "      <th>tsh</th>\n",
              "      <th>t3_measured</th>\n",
              "      <th>t3</th>\n",
              "      <th>tt4_measured</th>\n",
              "      <th>tt4</th>\n",
              "      <th>t4u_measured</th>\n",
              "      <th>t4u</th>\n",
              "      <th>fti_measured</th>\n",
              "      <th>fti</th>\n",
              "    </tr>\n",
              "  </thead>\n",
              "  <tbody>\n",
              "    <tr>\n",
              "      <th>0</th>\n",
              "      <td>0</td>\n",
              "      <td>72</td>\n",
              "      <td>0.0</td>\n",
              "      <td>0</td>\n",
              "      <td>0</td>\n",
              "      <td>0</td>\n",
              "      <td>0</td>\n",
              "      <td>0</td>\n",
              "      <td>0</td>\n",
              "      <td>0</td>\n",
              "      <td>0</td>\n",
              "      <td>0</td>\n",
              "      <td>0</td>\n",
              "      <td>0</td>\n",
              "      <td>1</td>\n",
              "      <td>30</td>\n",
              "      <td>1</td>\n",
              "      <td>0.60</td>\n",
              "      <td>1</td>\n",
              "      <td>15</td>\n",
              "      <td>1</td>\n",
              "      <td>1.48</td>\n",
              "      <td>1</td>\n",
              "      <td>10</td>\n",
              "    </tr>\n",
              "    <tr>\n",
              "      <th>1</th>\n",
              "      <td>0</td>\n",
              "      <td>15</td>\n",
              "      <td>1.0</td>\n",
              "      <td>1</td>\n",
              "      <td>0</td>\n",
              "      <td>0</td>\n",
              "      <td>0</td>\n",
              "      <td>0</td>\n",
              "      <td>0</td>\n",
              "      <td>0</td>\n",
              "      <td>0</td>\n",
              "      <td>0</td>\n",
              "      <td>0</td>\n",
              "      <td>0</td>\n",
              "      <td>1</td>\n",
              "      <td>145</td>\n",
              "      <td>1</td>\n",
              "      <td>1.70</td>\n",
              "      <td>1</td>\n",
              "      <td>19</td>\n",
              "      <td>1</td>\n",
              "      <td>1.13</td>\n",
              "      <td>1</td>\n",
              "      <td>17</td>\n",
              "    </tr>\n",
              "    <tr>\n",
              "      <th>2</th>\n",
              "      <td>0</td>\n",
              "      <td>24</td>\n",
              "      <td>0.0</td>\n",
              "      <td>0</td>\n",
              "      <td>0</td>\n",
              "      <td>0</td>\n",
              "      <td>0</td>\n",
              "      <td>0</td>\n",
              "      <td>0</td>\n",
              "      <td>0</td>\n",
              "      <td>0</td>\n",
              "      <td>0</td>\n",
              "      <td>0</td>\n",
              "      <td>0</td>\n",
              "      <td>1</td>\n",
              "      <td>0</td>\n",
              "      <td>1</td>\n",
              "      <td>0.20</td>\n",
              "      <td>1</td>\n",
              "      <td>4</td>\n",
              "      <td>1</td>\n",
              "      <td>1</td>\n",
              "      <td>1</td>\n",
              "      <td>0</td>\n",
              "    </tr>\n",
              "    <tr>\n",
              "      <th>3</th>\n",
              "      <td>0</td>\n",
              "      <td>24</td>\n",
              "      <td>1.0</td>\n",
              "      <td>0</td>\n",
              "      <td>0</td>\n",
              "      <td>0</td>\n",
              "      <td>0</td>\n",
              "      <td>0</td>\n",
              "      <td>0</td>\n",
              "      <td>0</td>\n",
              "      <td>0</td>\n",
              "      <td>0</td>\n",
              "      <td>0</td>\n",
              "      <td>0</td>\n",
              "      <td>1</td>\n",
              "      <td>430</td>\n",
              "      <td>1</td>\n",
              "      <td>0.40</td>\n",
              "      <td>1</td>\n",
              "      <td>6</td>\n",
              "      <td>1</td>\n",
              "      <td>1.04</td>\n",
              "      <td>1</td>\n",
              "      <td>6</td>\n",
              "    </tr>\n",
              "    <tr>\n",
              "      <th>4</th>\n",
              "      <td>0</td>\n",
              "      <td>77</td>\n",
              "      <td>0.0</td>\n",
              "      <td>0</td>\n",
              "      <td>0</td>\n",
              "      <td>0</td>\n",
              "      <td>0</td>\n",
              "      <td>0</td>\n",
              "      <td>0</td>\n",
              "      <td>0</td>\n",
              "      <td>0</td>\n",
              "      <td>0</td>\n",
              "      <td>0</td>\n",
              "      <td>0</td>\n",
              "      <td>1</td>\n",
              "      <td>7.30</td>\n",
              "      <td>1</td>\n",
              "      <td>1.20</td>\n",
              "      <td>1</td>\n",
              "      <td>57</td>\n",
              "      <td>1</td>\n",
              "      <td>1.28</td>\n",
              "      <td>1</td>\n",
              "      <td>44</td>\n",
              "    </tr>\n",
              "  </tbody>\n",
              "</table>\n",
              "</div>"
            ],
            "text/plain": [
              "   status age  sex  on_thyroxine  ...  t4u_measured   t4u  fti_measured  fti\n",
              "0       0  72  0.0             0  ...             1  1.48             1   10\n",
              "1       0  15  1.0             1  ...             1  1.13             1   17\n",
              "2       0  24  0.0             0  ...             1     1             1    0\n",
              "3       0  24  1.0             0  ...             1  1.04             1    6\n",
              "4       0  77  0.0             0  ...             1  1.28             1   44\n",
              "\n",
              "[5 rows x 24 columns]"
            ]
          },
          "metadata": {
            "tags": []
          },
          "execution_count": 180
        }
      ]
    },
    {
      "cell_type": "markdown",
      "metadata": {
        "id": "PRv7A8hnqA2j"
      },
      "source": [
        "***Meaning***\n",
        "\n",
        "In the above output:\n",
        "\n",
        "1. 0 represents hypothyroidism and 1 represents negative.\n",
        "2.0 represents male and 1 represents females.\n",
        "3.false represents 0 and true represents 1,\n",
        "4.yes represents 1 and no represents 0. \n"
      ]
    },
    {
      "cell_type": "code",
      "metadata": {
        "colab": {
          "base_uri": "https://localhost:8080/"
        },
        "id": "G-LGUvVJgtGL",
        "outputId": "9797c6c8-45eb-4402-a3c5-6e06e935eaac"
      },
      "source": [
        "#ILl then confirm if the data types have been changed\n",
        "df.dtypes\n"
      ],
      "execution_count": 181,
      "outputs": [
        {
          "output_type": "execute_result",
          "data": {
            "text/plain": [
              "status                         int64\n",
              "age                           object\n",
              "sex                          float64\n",
              "on_thyroxine                   int64\n",
              "query_on_thyroxine             int64\n",
              "on_antithyroid_medication      int64\n",
              "thyroid_surgery                int64\n",
              "query_hypothyroid              int64\n",
              "query_hyperthyroid             int64\n",
              "pregnant                       int64\n",
              "sick                           int64\n",
              "tumor                          int64\n",
              "lithium                        int64\n",
              "goitre                         int64\n",
              "tsh_measured                   int64\n",
              "tsh                           object\n",
              "t3_measured                    int64\n",
              "t3                            object\n",
              "tt4_measured                   int64\n",
              "tt4                           object\n",
              "t4u_measured                   int64\n",
              "t4u                           object\n",
              "fti_measured                   int64\n",
              "fti                           object\n",
              "dtype: object"
            ]
          },
          "metadata": {
            "tags": []
          },
          "execution_count": 181
        }
      ]
    },
    {
      "cell_type": "markdown",
      "metadata": {
        "id": "FA2HnNXgm18i"
      },
      "source": [
        "***Imputation***\n",
        "\n",
        "Inorder to choose the appropriate imputation procedure,their are things to consider like knowing your continuos variable and categorical variable\n",
        "\n"
      ]
    },
    {
      "cell_type": "code",
      "metadata": {
        "id": "Ew_6H8DioSEG"
      },
      "source": [
        "#Ill first create a copy for imputation\n",
        "df_copy = df.copy(deep=True)"
      ],
      "execution_count": 182,
      "outputs": []
    },
    {
      "cell_type": "code",
      "metadata": {
        "colab": {
          "base_uri": "https://localhost:8080/",
          "height": 224
        },
        "id": "qvR3jQ3JpEEM",
        "outputId": "cd7bbd1a-bd7d-4f3f-e599-a8d3899dbfb3"
      },
      "source": [
        "df_copy.head()"
      ],
      "execution_count": 183,
      "outputs": [
        {
          "output_type": "execute_result",
          "data": {
            "text/html": [
              "<div>\n",
              "<style scoped>\n",
              "    .dataframe tbody tr th:only-of-type {\n",
              "        vertical-align: middle;\n",
              "    }\n",
              "\n",
              "    .dataframe tbody tr th {\n",
              "        vertical-align: top;\n",
              "    }\n",
              "\n",
              "    .dataframe thead th {\n",
              "        text-align: right;\n",
              "    }\n",
              "</style>\n",
              "<table border=\"1\" class=\"dataframe\">\n",
              "  <thead>\n",
              "    <tr style=\"text-align: right;\">\n",
              "      <th></th>\n",
              "      <th>status</th>\n",
              "      <th>age</th>\n",
              "      <th>sex</th>\n",
              "      <th>on_thyroxine</th>\n",
              "      <th>query_on_thyroxine</th>\n",
              "      <th>on_antithyroid_medication</th>\n",
              "      <th>thyroid_surgery</th>\n",
              "      <th>query_hypothyroid</th>\n",
              "      <th>query_hyperthyroid</th>\n",
              "      <th>pregnant</th>\n",
              "      <th>sick</th>\n",
              "      <th>tumor</th>\n",
              "      <th>lithium</th>\n",
              "      <th>goitre</th>\n",
              "      <th>tsh_measured</th>\n",
              "      <th>tsh</th>\n",
              "      <th>t3_measured</th>\n",
              "      <th>t3</th>\n",
              "      <th>tt4_measured</th>\n",
              "      <th>tt4</th>\n",
              "      <th>t4u_measured</th>\n",
              "      <th>t4u</th>\n",
              "      <th>fti_measured</th>\n",
              "      <th>fti</th>\n",
              "    </tr>\n",
              "  </thead>\n",
              "  <tbody>\n",
              "    <tr>\n",
              "      <th>0</th>\n",
              "      <td>0</td>\n",
              "      <td>72</td>\n",
              "      <td>0.0</td>\n",
              "      <td>0</td>\n",
              "      <td>0</td>\n",
              "      <td>0</td>\n",
              "      <td>0</td>\n",
              "      <td>0</td>\n",
              "      <td>0</td>\n",
              "      <td>0</td>\n",
              "      <td>0</td>\n",
              "      <td>0</td>\n",
              "      <td>0</td>\n",
              "      <td>0</td>\n",
              "      <td>1</td>\n",
              "      <td>30</td>\n",
              "      <td>1</td>\n",
              "      <td>0.60</td>\n",
              "      <td>1</td>\n",
              "      <td>15</td>\n",
              "      <td>1</td>\n",
              "      <td>1.48</td>\n",
              "      <td>1</td>\n",
              "      <td>10</td>\n",
              "    </tr>\n",
              "    <tr>\n",
              "      <th>1</th>\n",
              "      <td>0</td>\n",
              "      <td>15</td>\n",
              "      <td>1.0</td>\n",
              "      <td>1</td>\n",
              "      <td>0</td>\n",
              "      <td>0</td>\n",
              "      <td>0</td>\n",
              "      <td>0</td>\n",
              "      <td>0</td>\n",
              "      <td>0</td>\n",
              "      <td>0</td>\n",
              "      <td>0</td>\n",
              "      <td>0</td>\n",
              "      <td>0</td>\n",
              "      <td>1</td>\n",
              "      <td>145</td>\n",
              "      <td>1</td>\n",
              "      <td>1.70</td>\n",
              "      <td>1</td>\n",
              "      <td>19</td>\n",
              "      <td>1</td>\n",
              "      <td>1.13</td>\n",
              "      <td>1</td>\n",
              "      <td>17</td>\n",
              "    </tr>\n",
              "    <tr>\n",
              "      <th>2</th>\n",
              "      <td>0</td>\n",
              "      <td>24</td>\n",
              "      <td>0.0</td>\n",
              "      <td>0</td>\n",
              "      <td>0</td>\n",
              "      <td>0</td>\n",
              "      <td>0</td>\n",
              "      <td>0</td>\n",
              "      <td>0</td>\n",
              "      <td>0</td>\n",
              "      <td>0</td>\n",
              "      <td>0</td>\n",
              "      <td>0</td>\n",
              "      <td>0</td>\n",
              "      <td>1</td>\n",
              "      <td>0</td>\n",
              "      <td>1</td>\n",
              "      <td>0.20</td>\n",
              "      <td>1</td>\n",
              "      <td>4</td>\n",
              "      <td>1</td>\n",
              "      <td>1</td>\n",
              "      <td>1</td>\n",
              "      <td>0</td>\n",
              "    </tr>\n",
              "    <tr>\n",
              "      <th>3</th>\n",
              "      <td>0</td>\n",
              "      <td>24</td>\n",
              "      <td>1.0</td>\n",
              "      <td>0</td>\n",
              "      <td>0</td>\n",
              "      <td>0</td>\n",
              "      <td>0</td>\n",
              "      <td>0</td>\n",
              "      <td>0</td>\n",
              "      <td>0</td>\n",
              "      <td>0</td>\n",
              "      <td>0</td>\n",
              "      <td>0</td>\n",
              "      <td>0</td>\n",
              "      <td>1</td>\n",
              "      <td>430</td>\n",
              "      <td>1</td>\n",
              "      <td>0.40</td>\n",
              "      <td>1</td>\n",
              "      <td>6</td>\n",
              "      <td>1</td>\n",
              "      <td>1.04</td>\n",
              "      <td>1</td>\n",
              "      <td>6</td>\n",
              "    </tr>\n",
              "    <tr>\n",
              "      <th>4</th>\n",
              "      <td>0</td>\n",
              "      <td>77</td>\n",
              "      <td>0.0</td>\n",
              "      <td>0</td>\n",
              "      <td>0</td>\n",
              "      <td>0</td>\n",
              "      <td>0</td>\n",
              "      <td>0</td>\n",
              "      <td>0</td>\n",
              "      <td>0</td>\n",
              "      <td>0</td>\n",
              "      <td>0</td>\n",
              "      <td>0</td>\n",
              "      <td>0</td>\n",
              "      <td>1</td>\n",
              "      <td>7.30</td>\n",
              "      <td>1</td>\n",
              "      <td>1.20</td>\n",
              "      <td>1</td>\n",
              "      <td>57</td>\n",
              "      <td>1</td>\n",
              "      <td>1.28</td>\n",
              "      <td>1</td>\n",
              "      <td>44</td>\n",
              "    </tr>\n",
              "  </tbody>\n",
              "</table>\n",
              "</div>"
            ],
            "text/plain": [
              "   status age  sex  on_thyroxine  ...  t4u_measured   t4u  fti_measured  fti\n",
              "0       0  72  0.0             0  ...             1  1.48             1   10\n",
              "1       0  15  1.0             1  ...             1  1.13             1   17\n",
              "2       0  24  0.0             0  ...             1     1             1    0\n",
              "3       0  24  1.0             0  ...             1  1.04             1    6\n",
              "4       0  77  0.0             0  ...             1  1.28             1   44\n",
              "\n",
              "[5 rows x 24 columns]"
            ]
          },
          "metadata": {
            "tags": []
          },
          "execution_count": 183
        }
      ]
    },
    {
      "cell_type": "code",
      "metadata": {
        "colab": {
          "base_uri": "https://localhost:8080/"
        },
        "id": "t179oqmV8MXq",
        "outputId": "a4b06b3e-d34d-4eb9-beff-9277e01b06b8"
      },
      "source": [
        "#Ill then convert columns of object datatype to integer datatype using pd.to_numeric function\n",
        "convert = df_copy.columns[df_copy.dtypes == object]\n",
        "\n",
        "df_copy[convert]= df_copy[convert].apply(pd.to_numeric, errors='coerce')\n",
        "\n",
        "# Ill then confirm if the change has been effected\n",
        "df_copy.dtypes"
      ],
      "execution_count": 184,
      "outputs": [
        {
          "output_type": "execute_result",
          "data": {
            "text/plain": [
              "status                         int64\n",
              "age                          float64\n",
              "sex                          float64\n",
              "on_thyroxine                   int64\n",
              "query_on_thyroxine             int64\n",
              "on_antithyroid_medication      int64\n",
              "thyroid_surgery                int64\n",
              "query_hypothyroid              int64\n",
              "query_hyperthyroid             int64\n",
              "pregnant                       int64\n",
              "sick                           int64\n",
              "tumor                          int64\n",
              "lithium                        int64\n",
              "goitre                         int64\n",
              "tsh_measured                   int64\n",
              "tsh                          float64\n",
              "t3_measured                    int64\n",
              "t3                           float64\n",
              "tt4_measured                   int64\n",
              "tt4                          float64\n",
              "t4u_measured                   int64\n",
              "t4u                          float64\n",
              "fti_measured                   int64\n",
              "fti                          float64\n",
              "dtype: object"
            ]
          },
          "metadata": {
            "tags": []
          },
          "execution_count": 184
        }
      ]
    },
    {
      "cell_type": "code",
      "metadata": {
        "colab": {
          "base_uri": "https://localhost:8080/"
        },
        "id": "ffzrWO8FOy3Y",
        "outputId": "5283daf9-228f-41ae-bd83-f7cb35947b95"
      },
      "source": [
        "#ILl then do a value count so as to find the number of occurence in a dataframe\n",
        "df_copy['sex'].value_counts()"
      ],
      "execution_count": 185,
      "outputs": [
        {
          "output_type": "execute_result",
          "data": {
            "text/plain": [
              "1.0    2182\n",
              "0.0     908\n",
              "Name: sex, dtype: int64"
            ]
          },
          "metadata": {
            "tags": []
          },
          "execution_count": 185
        }
      ]
    },
    {
      "cell_type": "markdown",
      "metadata": {
        "id": "YjZYKEt2PH_w"
      },
      "source": [
        "**Output reads 2255 females and 908 males**\n",
        "\n",
        "**For the Categorical variable, imputing with the mode is generally used.**"
      ]
    },
    {
      "cell_type": "code",
      "metadata": {
        "colab": {
          "base_uri": "https://localhost:8080/"
        },
        "id": "m4H4fRv3ElVP",
        "outputId": "dff83aeb-3a31-4ae2-c279-99335c6def9e"
      },
      "source": [
        "#Ill then fix the dataset. Inorder to start  imputing ill have to specify the intergers and strings so\n",
        "# as to avoid 'can only concatenate str (not \"int\") to str'. \n",
        "# Dealing with the null values\n",
        "numerical_columns = ['age', 'tsh', 't4u', 't3', 'tt4', 'fti']\n",
        "\n",
        "# filling missing values in columns in mean_col list with mean values of each column\n",
        "for col in numerical_columns:\n",
        "  df_copy[col].fillna(df_copy[col].mean(), inplace=True)\n",
        "df_copy['sex'].fillna(1.0, inplace = True)\n",
        "\n",
        "# checking for null values after imputing\n",
        "df_copy.isnull().sum()"
      ],
      "execution_count": 186,
      "outputs": [
        {
          "output_type": "execute_result",
          "data": {
            "text/plain": [
              "status                       0\n",
              "age                          0\n",
              "sex                          0\n",
              "on_thyroxine                 0\n",
              "query_on_thyroxine           0\n",
              "on_antithyroid_medication    0\n",
              "thyroid_surgery              0\n",
              "query_hypothyroid            0\n",
              "query_hyperthyroid           0\n",
              "pregnant                     0\n",
              "sick                         0\n",
              "tumor                        0\n",
              "lithium                      0\n",
              "goitre                       0\n",
              "tsh_measured                 0\n",
              "tsh                          0\n",
              "t3_measured                  0\n",
              "t3                           0\n",
              "tt4_measured                 0\n",
              "tt4                          0\n",
              "t4u_measured                 0\n",
              "t4u                          0\n",
              "fti_measured                 0\n",
              "fti                          0\n",
              "dtype: int64"
            ]
          },
          "metadata": {
            "tags": []
          },
          "execution_count": 186
        }
      ]
    },
    {
      "cell_type": "markdown",
      "metadata": {
        "id": "J5cBGEaqOwKl"
      },
      "source": [
        "**I used a 1.0 (fillna)in sex because it was the most repeated number in the number.**"
      ]
    },
    {
      "cell_type": "markdown",
      "metadata": {
        "id": "uaNPqjq9GdW5"
      },
      "source": [
        "Output reads 2255 females and 908 males\n",
        "\n",
        "For the Categorical variable, imputing with the mode is generally used."
      ]
    },
    {
      "cell_type": "code",
      "metadata": {
        "colab": {
          "base_uri": "https://localhost:8080/"
        },
        "id": "57Vrka8pI-VU",
        "outputId": "051bc994-dee0-45bd-f50b-401962b3d01b"
      },
      "source": [
        "#ILl then confirm if their are still null values.\n",
        "df_copy.isnull().sum()\n"
      ],
      "execution_count": 187,
      "outputs": [
        {
          "output_type": "execute_result",
          "data": {
            "text/plain": [
              "status                       0\n",
              "age                          0\n",
              "sex                          0\n",
              "on_thyroxine                 0\n",
              "query_on_thyroxine           0\n",
              "on_antithyroid_medication    0\n",
              "thyroid_surgery              0\n",
              "query_hypothyroid            0\n",
              "query_hyperthyroid           0\n",
              "pregnant                     0\n",
              "sick                         0\n",
              "tumor                        0\n",
              "lithium                      0\n",
              "goitre                       0\n",
              "tsh_measured                 0\n",
              "tsh                          0\n",
              "t3_measured                  0\n",
              "t3                           0\n",
              "tt4_measured                 0\n",
              "tt4                          0\n",
              "t4u_measured                 0\n",
              "t4u                          0\n",
              "fti_measured                 0\n",
              "fti                          0\n",
              "dtype: int64"
            ]
          },
          "metadata": {
            "tags": []
          },
          "execution_count": 187
        }
      ]
    },
    {
      "cell_type": "markdown",
      "metadata": {
        "id": "itP-pGhXN4_M"
      },
      "source": [
        "***Conclusion***\n",
        "\n",
        "On Imputing, I had to differetiate between categorical variables and continuos variables. Mean and Median are generally used in continuos variables(numeric) while categotical variables we use mode(most repeated)"
      ]
    },
    {
      "cell_type": "markdown",
      "metadata": {
        "id": "MU9Ixq1VMjH4"
      },
      "source": [
        "## ***Exploratory Data Analysis***\n",
        "We can define EDA as the process of performing initial investigation to data so as to unravel patterns, spot anomalies, test hypothesis and to check assumptions"
      ]
    },
    {
      "cell_type": "markdown",
      "metadata": {
        "id": "BDQ-CZOINPCU"
      },
      "source": [
        "### ***Univariate Analysis***\n"
      ]
    },
    {
      "cell_type": "code",
      "metadata": {
        "colab": {
          "base_uri": "https://localhost:8080/",
          "height": 584
        },
        "id": "BDw9B9mJlyR6",
        "outputId": "4cc97342-cf73-42f5-ab8e-3ea6f81c1a12"
      },
      "source": [
        "#Ill first check for outliers in the dataset with box plot\n",
        "column_1 = ['age', 't3', 'tsh', 'fti', 't4u', 'tt4']\n",
        "\n",
        "#Ill then  craft a list of colors for the boxplots\n",
        "colors = ['cyan','magenta','yellow','black','blue','green']\n",
        "\n",
        "# plotting the boxplots\n",
        "figgg, axes = plt.subplots(2,3, figsize=(18,9))\n",
        "plt.suptitle('Boxplots Showing Outliers in Numerical Columns', fontsize=18, color='darkblue', y=0.93)\n",
        "#Ill then use a for loop for iterartion\n",
        "for ax, data, col, color in zip(axes.flatten(), df_copy, column_1, colors):\n",
        "  sns.boxplot(df_copy[col], ax=ax, color=color)\n",
        "  ax.set_facecolor('antiquewhite')\n",
        "plt.show();\n",
        " "
      ],
      "execution_count": 188,
      "outputs": [
        {
          "output_type": "display_data",
          "data": {
            "image/png": "[encoded data removed]",
            "text/plain": [
              "<Figure size 1296x648 with 6 Axes>"
            ]
          },
          "metadata": {
            "tags": [],
            "needs_background": "light"
          }
        }
      ]
    },
    {
      "cell_type": "markdown",
      "metadata": {
        "id": "4Ux_w2eIqEp4"
      },
      "source": [
        "**I will not the outliers as they will take a huge percentage of the project.**"
      ]
    },
    {
      "cell_type": "code",
      "metadata": {
        "colab": {
          "base_uri": "https://localhost:8080/",
          "height": 334
        },
        "id": "s5ha-Iu7qNN3",
        "outputId": "51f5cee8-e181-4a42-8380-75a0f67401f9"
      },
      "source": [
        "#Ill then plot a bar graph to show the distribution in the sec column\n",
        "df_copy.sex.value_counts().plot(kind='bar')\n",
        "plt.xticks((np.arange(0, 2,)), ('Female', 'Male'), rotation=360)\n",
        "plt.title('Number of Men and Women in the dataset', fontsize=15, color='black')\n",
        "plt.show()\n",
        "#Females are more"
      ],
      "execution_count": 189,
      "outputs": [
        {
          "output_type": "execute_result",
          "data": {
            "text/plain": [
              "<matplotlib.axes._subplots.AxesSubplot at 0x7f1a58eb2410>"
            ]
          },
          "metadata": {
            "tags": []
          },
          "execution_count": 189
        },
        {
          "output_type": "execute_result",
          "data": {
            "text/plain": [
              "([<matplotlib.axis.XTick at 0x7f1a66c72310>,\n",
              "  <matplotlib.axis.XTick at 0x7f1a5447dd50>],\n",
              " [Text(0, 0, 'Female'), Text(0, 0, 'Male')])"
            ]
          },
          "metadata": {
            "tags": []
          },
          "execution_count": 189
        },
        {
          "output_type": "execute_result",
          "data": {
            "text/plain": [
              "Text(0.5, 1.0, 'Number of Men and Women in the dataset')"
            ]
          },
          "metadata": {
            "tags": []
          },
          "execution_count": 189
        },
        {
          "output_type": "display_data",
          "data": {
            "image/png": "[encoded data removed]",
            "text/plain": [
              "<Figure size 432x288 with 1 Axes>"
            ]
          },
          "metadata": {
            "tags": [],
            "needs_background": "light"
          }
        }
      ]
    },
    {
      "cell_type": "code",
      "metadata": {
        "colab": {
          "base_uri": "https://localhost:8080/",
          "height": 332
        },
        "id": "Bq2cLwj9sRQN",
        "outputId": "d8037520-29dd-4229-e5ee-2724853b2873"
      },
      "source": [
        "#Ill then plot a histogram to show distribution of the patients age\n",
        "df_copy.age.plot.hist(grid=False, bins=20, rwidth=0.9,\n",
        "                   color='blue')\n",
        "plt.title('Age distribution of patients')\n",
        "plt.xlabel('Age')\n",
        "plt.ylabel('Number')\n",
        "plt.grid(axis='y', alpha=0.75)\n"
      ],
      "execution_count": 190,
      "outputs": [
        {
          "output_type": "execute_result",
          "data": {
            "text/plain": [
              "<matplotlib.axes._subplots.AxesSubplot at 0x7f1a58f21210>"
            ]
          },
          "metadata": {
            "tags": []
          },
          "execution_count": 190
        },
        {
          "output_type": "execute_result",
          "data": {
            "text/plain": [
              "Text(0.5, 1.0, 'Age distribution of patients')"
            ]
          },
          "metadata": {
            "tags": []
          },
          "execution_count": 190
        },
        {
          "output_type": "execute_result",
          "data": {
            "text/plain": [
              "Text(0.5, 0, 'Age')"
            ]
          },
          "metadata": {
            "tags": []
          },
          "execution_count": 190
        },
        {
          "output_type": "execute_result",
          "data": {
            "text/plain": [
              "Text(0, 0.5, 'Number')"
            ]
          },
          "metadata": {
            "tags": []
          },
          "execution_count": 190
        },
        {
          "output_type": "display_data",
          "data": {
            "image/png": "[encoded data removed]",
            "text/plain": [
              "<Figure size 432x288 with 1 Axes>"
            ]
          },
          "metadata": {
            "tags": [],
            "needs_background": "light"
          }
        }
      ]
    },
    {
      "cell_type": "markdown",
      "metadata": {
        "id": "kcwM09C_yXMh"
      },
      "source": [
        "**The output shows that their is a high number of patients between 50 and 60**"
      ]
    },
    {
      "cell_type": "markdown",
      "metadata": {
        "id": "T_6qc3J5y2P8"
      },
      "source": [
        "### ***Bivariate Analysis***\n",
        "Bivariate analysis involves two different variables. It aims to find out the causes and relationships between those two variables.\n",
        "\n"
      ]
    },
    {
      "cell_type": "code",
      "metadata": {
        "colab": {
          "base_uri": "https://localhost:8080/",
          "height": 224
        },
        "id": "hwmBJ5vr0H4L",
        "outputId": "70847248-5525-4147-9c96-a5d28f7518f0"
      },
      "source": [
        "#Ill first preview my dataset\n",
        "df_copy.head()"
      ],
      "execution_count": 191,
      "outputs": [
        {
          "output_type": "execute_result",
          "data": {
            "text/html": [
              "<div>\n",
              "<style scoped>\n",
              "    .dataframe tbody tr th:only-of-type {\n",
              "        vertical-align: middle;\n",
              "    }\n",
              "\n",
              "    .dataframe tbody tr th {\n",
              "        vertical-align: top;\n",
              "    }\n",
              "\n",
              "    .dataframe thead th {\n",
              "        text-align: right;\n",
              "    }\n",
              "</style>\n",
              "<table border=\"1\" class=\"dataframe\">\n",
              "  <thead>\n",
              "    <tr style=\"text-align: right;\">\n",
              "      <th></th>\n",
              "      <th>status</th>\n",
              "      <th>age</th>\n",
              "      <th>sex</th>\n",
              "      <th>on_thyroxine</th>\n",
              "      <th>query_on_thyroxine</th>\n",
              "      <th>on_antithyroid_medication</th>\n",
              "      <th>thyroid_surgery</th>\n",
              "      <th>query_hypothyroid</th>\n",
              "      <th>query_hyperthyroid</th>\n",
              "      <th>pregnant</th>\n",
              "      <th>sick</th>\n",
              "      <th>tumor</th>\n",
              "      <th>lithium</th>\n",
              "      <th>goitre</th>\n",
              "      <th>tsh_measured</th>\n",
              "      <th>tsh</th>\n",
              "      <th>t3_measured</th>\n",
              "      <th>t3</th>\n",
              "      <th>tt4_measured</th>\n",
              "      <th>tt4</th>\n",
              "      <th>t4u_measured</th>\n",
              "      <th>t4u</th>\n",
              "      <th>fti_measured</th>\n",
              "      <th>fti</th>\n",
              "    </tr>\n",
              "  </thead>\n",
              "  <tbody>\n",
              "    <tr>\n",
              "      <th>0</th>\n",
              "      <td>0</td>\n",
              "      <td>72.0</td>\n",
              "      <td>0.0</td>\n",
              "      <td>0</td>\n",
              "      <td>0</td>\n",
              "      <td>0</td>\n",
              "      <td>0</td>\n",
              "      <td>0</td>\n",
              "      <td>0</td>\n",
              "      <td>0</td>\n",
              "      <td>0</td>\n",
              "      <td>0</td>\n",
              "      <td>0</td>\n",
              "      <td>0</td>\n",
              "      <td>1</td>\n",
              "      <td>30.0</td>\n",
              "      <td>1</td>\n",
              "      <td>0.6</td>\n",
              "      <td>1</td>\n",
              "      <td>15.0</td>\n",
              "      <td>1</td>\n",
              "      <td>1.48</td>\n",
              "      <td>1</td>\n",
              "      <td>10.0</td>\n",
              "    </tr>\n",
              "    <tr>\n",
              "      <th>1</th>\n",
              "      <td>0</td>\n",
              "      <td>15.0</td>\n",
              "      <td>1.0</td>\n",
              "      <td>1</td>\n",
              "      <td>0</td>\n",
              "      <td>0</td>\n",
              "      <td>0</td>\n",
              "      <td>0</td>\n",
              "      <td>0</td>\n",
              "      <td>0</td>\n",
              "      <td>0</td>\n",
              "      <td>0</td>\n",
              "      <td>0</td>\n",
              "      <td>0</td>\n",
              "      <td>1</td>\n",
              "      <td>145.0</td>\n",
              "      <td>1</td>\n",
              "      <td>1.7</td>\n",
              "      <td>1</td>\n",
              "      <td>19.0</td>\n",
              "      <td>1</td>\n",
              "      <td>1.13</td>\n",
              "      <td>1</td>\n",
              "      <td>17.0</td>\n",
              "    </tr>\n",
              "    <tr>\n",
              "      <th>2</th>\n",
              "      <td>0</td>\n",
              "      <td>24.0</td>\n",
              "      <td>0.0</td>\n",
              "      <td>0</td>\n",
              "      <td>0</td>\n",
              "      <td>0</td>\n",
              "      <td>0</td>\n",
              "      <td>0</td>\n",
              "      <td>0</td>\n",
              "      <td>0</td>\n",
              "      <td>0</td>\n",
              "      <td>0</td>\n",
              "      <td>0</td>\n",
              "      <td>0</td>\n",
              "      <td>1</td>\n",
              "      <td>0.0</td>\n",
              "      <td>1</td>\n",
              "      <td>0.2</td>\n",
              "      <td>1</td>\n",
              "      <td>4.0</td>\n",
              "      <td>1</td>\n",
              "      <td>1.00</td>\n",
              "      <td>1</td>\n",
              "      <td>0.0</td>\n",
              "    </tr>\n",
              "    <tr>\n",
              "      <th>3</th>\n",
              "      <td>0</td>\n",
              "      <td>24.0</td>\n",
              "      <td>1.0</td>\n",
              "      <td>0</td>\n",
              "      <td>0</td>\n",
              "      <td>0</td>\n",
              "      <td>0</td>\n",
              "      <td>0</td>\n",
              "      <td>0</td>\n",
              "      <td>0</td>\n",
              "      <td>0</td>\n",
              "      <td>0</td>\n",
              "      <td>0</td>\n",
              "      <td>0</td>\n",
              "      <td>1</td>\n",
              "      <td>430.0</td>\n",
              "      <td>1</td>\n",
              "      <td>0.4</td>\n",
              "      <td>1</td>\n",
              "      <td>6.0</td>\n",
              "      <td>1</td>\n",
              "      <td>1.04</td>\n",
              "      <td>1</td>\n",
              "      <td>6.0</td>\n",
              "    </tr>\n",
              "    <tr>\n",
              "      <th>4</th>\n",
              "      <td>0</td>\n",
              "      <td>77.0</td>\n",
              "      <td>0.0</td>\n",
              "      <td>0</td>\n",
              "      <td>0</td>\n",
              "      <td>0</td>\n",
              "      <td>0</td>\n",
              "      <td>0</td>\n",
              "      <td>0</td>\n",
              "      <td>0</td>\n",
              "      <td>0</td>\n",
              "      <td>0</td>\n",
              "      <td>0</td>\n",
              "      <td>0</td>\n",
              "      <td>1</td>\n",
              "      <td>7.3</td>\n",
              "      <td>1</td>\n",
              "      <td>1.2</td>\n",
              "      <td>1</td>\n",
              "      <td>57.0</td>\n",
              "      <td>1</td>\n",
              "      <td>1.28</td>\n",
              "      <td>1</td>\n",
              "      <td>44.0</td>\n",
              "    </tr>\n",
              "  </tbody>\n",
              "</table>\n",
              "</div>"
            ],
            "text/plain": [
              "   status   age  sex  on_thyroxine  ...  t4u_measured   t4u  fti_measured   fti\n",
              "0       0  72.0  0.0             0  ...             1  1.48             1  10.0\n",
              "1       0  15.0  1.0             1  ...             1  1.13             1  17.0\n",
              "2       0  24.0  0.0             0  ...             1  1.00             1   0.0\n",
              "3       0  24.0  1.0             0  ...             1  1.04             1   6.0\n",
              "4       0  77.0  0.0             0  ...             1  1.28             1  44.0\n",
              "\n",
              "[5 rows x 24 columns]"
            ]
          },
          "metadata": {
            "tags": []
          },
          "execution_count": 191
        }
      ]
    },
    {
      "cell_type": "code",
      "metadata": {
        "colab": {
          "base_uri": "https://localhost:8080/",
          "height": 1000
        },
        "id": "N8Tx4NI62aqw",
        "outputId": "d8efb6cb-7386-455d-98ec-a38cb6923ba3"
      },
      "source": [
        "#Ill first check the overall correlation of the  columns\n",
        "corr = df_copy.corr()\n",
        "corr"
      ],
      "execution_count": 192,
      "outputs": [
        {
          "output_type": "execute_result",
          "data": {
            "text/html": [
              "<div>\n",
              "<style scoped>\n",
              "    .dataframe tbody tr th:only-of-type {\n",
              "        vertical-align: middle;\n",
              "    }\n",
              "\n",
              "    .dataframe tbody tr th {\n",
              "        vertical-align: top;\n",
              "    }\n",
              "\n",
              "    .dataframe thead th {\n",
              "        text-align: right;\n",
              "    }\n",
              "</style>\n",
              "<table border=\"1\" class=\"dataframe\">\n",
              "  <thead>\n",
              "    <tr style=\"text-align: right;\">\n",
              "      <th></th>\n",
              "      <th>status</th>\n",
              "      <th>age</th>\n",
              "      <th>sex</th>\n",
              "      <th>on_thyroxine</th>\n",
              "      <th>query_on_thyroxine</th>\n",
              "      <th>on_antithyroid_medication</th>\n",
              "      <th>thyroid_surgery</th>\n",
              "      <th>query_hypothyroid</th>\n",
              "      <th>query_hyperthyroid</th>\n",
              "      <th>pregnant</th>\n",
              "      <th>sick</th>\n",
              "      <th>tumor</th>\n",
              "      <th>lithium</th>\n",
              "      <th>goitre</th>\n",
              "      <th>tsh_measured</th>\n",
              "      <th>tsh</th>\n",
              "      <th>t3_measured</th>\n",
              "      <th>t3</th>\n",
              "      <th>tt4_measured</th>\n",
              "      <th>tt4</th>\n",
              "      <th>t4u_measured</th>\n",
              "      <th>t4u</th>\n",
              "      <th>fti_measured</th>\n",
              "      <th>fti</th>\n",
              "    </tr>\n",
              "  </thead>\n",
              "  <tbody>\n",
              "    <tr>\n",
              "      <th>status</th>\n",
              "      <td>1.000000</td>\n",
              "      <td>-0.035415</td>\n",
              "      <td>-0.017527</td>\n",
              "      <td>0.033652</td>\n",
              "      <td>0.029785</td>\n",
              "      <td>0.013020</td>\n",
              "      <td>-0.041868</td>\n",
              "      <td>-0.047477</td>\n",
              "      <td>0.025616</td>\n",
              "      <td>0.021306</td>\n",
              "      <td>0.023216</td>\n",
              "      <td>0.025340</td>\n",
              "      <td>0.005632</td>\n",
              "      <td>-0.010847</td>\n",
              "      <td>-8.912872e-02</td>\n",
              "      <td>-5.820097e-01</td>\n",
              "      <td>-6.868200e-02</td>\n",
              "      <td>1.865430e-01</td>\n",
              "      <td>-6.545094e-02</td>\n",
              "      <td>3.765792e-01</td>\n",
              "      <td>-6.530818e-02</td>\n",
              "      <td>-8.114960e-02</td>\n",
              "      <td>-6.516520e-02</td>\n",
              "      <td>3.162585e-01</td>\n",
              "    </tr>\n",
              "    <tr>\n",
              "      <th>age</th>\n",
              "      <td>-0.035415</td>\n",
              "      <td>1.000000</td>\n",
              "      <td>-0.008913</td>\n",
              "      <td>-0.001492</td>\n",
              "      <td>-0.019763</td>\n",
              "      <td>-0.058943</td>\n",
              "      <td>-0.012284</td>\n",
              "      <td>0.048322</td>\n",
              "      <td>-0.087881</td>\n",
              "      <td>-0.159354</td>\n",
              "      <td>0.064631</td>\n",
              "      <td>-0.063094</td>\n",
              "      <td>-0.021320</td>\n",
              "      <td>-0.037187</td>\n",
              "      <td>2.014359e-01</td>\n",
              "      <td>-7.429077e-03</td>\n",
              "      <td>1.768487e-01</td>\n",
              "      <td>-2.686477e-01</td>\n",
              "      <td>1.263930e-01</td>\n",
              "      <td>-9.117529e-02</td>\n",
              "      <td>1.241160e-01</td>\n",
              "      <td>-1.946565e-01</td>\n",
              "      <td>1.246650e-01</td>\n",
              "      <td>1.546035e-02</td>\n",
              "    </tr>\n",
              "    <tr>\n",
              "      <th>sex</th>\n",
              "      <td>-0.017527</td>\n",
              "      <td>-0.008913</td>\n",
              "      <td>1.000000</td>\n",
              "      <td>0.121486</td>\n",
              "      <td>-0.054593</td>\n",
              "      <td>0.018664</td>\n",
              "      <td>0.038623</td>\n",
              "      <td>0.063703</td>\n",
              "      <td>0.057096</td>\n",
              "      <td>0.090461</td>\n",
              "      <td>-0.022396</td>\n",
              "      <td>0.003019</td>\n",
              "      <td>0.015961</td>\n",
              "      <td>0.089982</td>\n",
              "      <td>-3.611428e-02</td>\n",
              "      <td>3.451733e-02</td>\n",
              "      <td>-9.875777e-02</td>\n",
              "      <td>7.739279e-02</td>\n",
              "      <td>-9.207147e-02</td>\n",
              "      <td>1.727702e-01</td>\n",
              "      <td>-9.149477e-02</td>\n",
              "      <td>1.995841e-01</td>\n",
              "      <td>-9.352097e-02</td>\n",
              "      <td>7.764058e-02</td>\n",
              "    </tr>\n",
              "    <tr>\n",
              "      <th>on_thyroxine</th>\n",
              "      <td>0.033652</td>\n",
              "      <td>-0.001492</td>\n",
              "      <td>0.121486</td>\n",
              "      <td>1.000000</td>\n",
              "      <td>-0.013820</td>\n",
              "      <td>-0.024433</td>\n",
              "      <td>0.029355</td>\n",
              "      <td>0.070498</td>\n",
              "      <td>-0.088877</td>\n",
              "      <td>-0.001168</td>\n",
              "      <td>-0.063956</td>\n",
              "      <td>-0.022691</td>\n",
              "      <td>-0.010390</td>\n",
              "      <td>-0.022790</td>\n",
              "      <td>7.371133e-02</td>\n",
              "      <td>-3.147937e-03</td>\n",
              "      <td>-1.616563e-01</td>\n",
              "      <td>1.880095e-02</td>\n",
              "      <td>6.085599e-02</td>\n",
              "      <td>2.141679e-01</td>\n",
              "      <td>6.048229e-02</td>\n",
              "      <td>7.192532e-02</td>\n",
              "      <td>6.344687e-02</td>\n",
              "      <td>1.135207e-01</td>\n",
              "    </tr>\n",
              "    <tr>\n",
              "      <th>query_on_thyroxine</th>\n",
              "      <td>0.029785</td>\n",
              "      <td>-0.019763</td>\n",
              "      <td>-0.054593</td>\n",
              "      <td>-0.013820</td>\n",
              "      <td>1.000000</td>\n",
              "      <td>-0.015432</td>\n",
              "      <td>0.016162</td>\n",
              "      <td>-0.019971</td>\n",
              "      <td>-0.038375</td>\n",
              "      <td>-0.018964</td>\n",
              "      <td>-0.023912</td>\n",
              "      <td>0.049880</td>\n",
              "      <td>-0.003346</td>\n",
              "      <td>0.003869</td>\n",
              "      <td>-1.080531e-01</td>\n",
              "      <td>-1.495940e-02</td>\n",
              "      <td>-8.712329e-02</td>\n",
              "      <td>-1.514719e-02</td>\n",
              "      <td>3.888622e-02</td>\n",
              "      <td>-2.009985e-02</td>\n",
              "      <td>3.880140e-02</td>\n",
              "      <td>-3.459826e-02</td>\n",
              "      <td>3.871645e-02</td>\n",
              "      <td>-4.386403e-03</td>\n",
              "    </tr>\n",
              "    <tr>\n",
              "      <th>on_antithyroid_medication</th>\n",
              "      <td>0.013020</td>\n",
              "      <td>-0.058943</td>\n",
              "      <td>0.018664</td>\n",
              "      <td>-0.024433</td>\n",
              "      <td>-0.015432</td>\n",
              "      <td>1.000000</td>\n",
              "      <td>-0.005901</td>\n",
              "      <td>-0.033315</td>\n",
              "      <td>0.122105</td>\n",
              "      <td>0.003231</td>\n",
              "      <td>-0.020852</td>\n",
              "      <td>-0.013129</td>\n",
              "      <td>-0.002918</td>\n",
              "      <td>-0.020852</td>\n",
              "      <td>-2.944865e-02</td>\n",
              "      <td>-1.494155e-03</td>\n",
              "      <td>-1.848694e-02</td>\n",
              "      <td>6.308933e-02</td>\n",
              "      <td>-4.813860e-02</td>\n",
              "      <td>-2.967621e-03</td>\n",
              "      <td>-4.836372e-02</td>\n",
              "      <td>2.579721e-02</td>\n",
              "      <td>-4.858990e-02</td>\n",
              "      <td>-1.741018e-02</td>\n",
              "    </tr>\n",
              "    <tr>\n",
              "      <th>thyroid_surgery</th>\n",
              "      <td>-0.041868</td>\n",
              "      <td>-0.012284</td>\n",
              "      <td>0.038623</td>\n",
              "      <td>0.029355</td>\n",
              "      <td>0.016162</td>\n",
              "      <td>-0.005901</td>\n",
              "      <td>1.000000</td>\n",
              "      <td>0.000507</td>\n",
              "      <td>0.020039</td>\n",
              "      <td>-0.013596</td>\n",
              "      <td>-0.033144</td>\n",
              "      <td>-0.020868</td>\n",
              "      <td>-0.004638</td>\n",
              "      <td>-0.022962</td>\n",
              "      <td>3.689035e-02</td>\n",
              "      <td>1.118306e-02</td>\n",
              "      <td>7.928734e-03</td>\n",
              "      <td>-8.658540e-03</td>\n",
              "      <td>7.815542e-03</td>\n",
              "      <td>-1.764577e-02</td>\n",
              "      <td>7.613078e-03</td>\n",
              "      <td>2.400594e-02</td>\n",
              "      <td>7.409903e-03</td>\n",
              "      <td>-2.632235e-02</td>\n",
              "    </tr>\n",
              "    <tr>\n",
              "      <th>query_hypothyroid</th>\n",
              "      <td>-0.047477</td>\n",
              "      <td>0.048322</td>\n",
              "      <td>0.063703</td>\n",
              "      <td>0.070498</td>\n",
              "      <td>-0.019971</td>\n",
              "      <td>-0.033315</td>\n",
              "      <td>0.000507</td>\n",
              "      <td>1.000000</td>\n",
              "      <td>-0.020203</td>\n",
              "      <td>-0.015354</td>\n",
              "      <td>-0.051623</td>\n",
              "      <td>-0.032502</td>\n",
              "      <td>0.040181</td>\n",
              "      <td>-0.024248</td>\n",
              "      <td>5.255328e-02</td>\n",
              "      <td>6.628605e-02</td>\n",
              "      <td>-2.027678e-02</td>\n",
              "      <td>-4.290464e-02</td>\n",
              "      <td>3.970123e-02</td>\n",
              "      <td>-1.491521e-02</td>\n",
              "      <td>3.943660e-02</td>\n",
              "      <td>3.526582e-02</td>\n",
              "      <td>3.917118e-02</td>\n",
              "      <td>-4.675330e-02</td>\n",
              "    </tr>\n",
              "    <tr>\n",
              "      <th>query_hyperthyroid</th>\n",
              "      <td>0.025616</td>\n",
              "      <td>-0.087881</td>\n",
              "      <td>0.057096</td>\n",
              "      <td>-0.088877</td>\n",
              "      <td>-0.038375</td>\n",
              "      <td>0.122105</td>\n",
              "      <td>0.020039</td>\n",
              "      <td>-0.020203</td>\n",
              "      <td>1.000000</td>\n",
              "      <td>0.069333</td>\n",
              "      <td>-0.051854</td>\n",
              "      <td>-0.032648</td>\n",
              "      <td>-0.007256</td>\n",
              "      <td>0.043595</td>\n",
              "      <td>-1.372360e-01</td>\n",
              "      <td>-2.492156e-02</td>\n",
              "      <td>-3.327552e-02</td>\n",
              "      <td>1.888334e-01</td>\n",
              "      <td>-9.200056e-02</td>\n",
              "      <td>1.506073e-01</td>\n",
              "      <td>-9.250933e-02</td>\n",
              "      <td>7.197632e-02</td>\n",
              "      <td>-9.302042e-02</td>\n",
              "      <td>7.763311e-02</td>\n",
              "    </tr>\n",
              "    <tr>\n",
              "      <th>pregnant</th>\n",
              "      <td>0.021306</td>\n",
              "      <td>-0.159354</td>\n",
              "      <td>0.090461</td>\n",
              "      <td>-0.001168</td>\n",
              "      <td>-0.018964</td>\n",
              "      <td>0.003231</td>\n",
              "      <td>-0.013596</td>\n",
              "      <td>-0.015354</td>\n",
              "      <td>0.069333</td>\n",
              "      <td>1.000000</td>\n",
              "      <td>-0.025625</td>\n",
              "      <td>0.004117</td>\n",
              "      <td>-0.003586</td>\n",
              "      <td>0.078337</td>\n",
              "      <td>8.422148e-03</td>\n",
              "      <td>-1.393243e-02</td>\n",
              "      <td>3.193077e-02</td>\n",
              "      <td>2.013056e-01</td>\n",
              "      <td>-3.400278e-04</td>\n",
              "      <td>1.654025e-01</td>\n",
              "      <td>-5.083199e-04</td>\n",
              "      <td>3.242593e-01</td>\n",
              "      <td>-6.772365e-04</td>\n",
              "      <td>-7.124221e-03</td>\n",
              "    </tr>\n",
              "    <tr>\n",
              "      <th>sick</th>\n",
              "      <td>0.023216</td>\n",
              "      <td>0.064631</td>\n",
              "      <td>-0.022396</td>\n",
              "      <td>-0.063956</td>\n",
              "      <td>-0.023912</td>\n",
              "      <td>-0.020852</td>\n",
              "      <td>-0.033144</td>\n",
              "      <td>-0.051623</td>\n",
              "      <td>-0.051854</td>\n",
              "      <td>-0.025625</td>\n",
              "      <td>1.000000</td>\n",
              "      <td>-0.020343</td>\n",
              "      <td>-0.004521</td>\n",
              "      <td>-0.032311</td>\n",
              "      <td>4.933755e-02</td>\n",
              "      <td>-7.624306e-03</td>\n",
              "      <td>7.784774e-02</td>\n",
              "      <td>-1.002943e-01</td>\n",
              "      <td>3.231842e-02</td>\n",
              "      <td>-4.173265e-02</td>\n",
              "      <td>3.216654e-02</td>\n",
              "      <td>-4.789769e-02</td>\n",
              "      <td>3.201426e-02</td>\n",
              "      <td>-2.305115e-02</td>\n",
              "    </tr>\n",
              "    <tr>\n",
              "      <th>tumor</th>\n",
              "      <td>0.025340</td>\n",
              "      <td>-0.063094</td>\n",
              "      <td>0.003019</td>\n",
              "      <td>-0.022691</td>\n",
              "      <td>0.049880</td>\n",
              "      <td>-0.013129</td>\n",
              "      <td>-0.020868</td>\n",
              "      <td>-0.032502</td>\n",
              "      <td>-0.032648</td>\n",
              "      <td>0.004117</td>\n",
              "      <td>-0.020343</td>\n",
              "      <td>1.000000</td>\n",
              "      <td>-0.002847</td>\n",
              "      <td>-0.020343</td>\n",
              "      <td>-3.252430e-02</td>\n",
              "      <td>-1.954744e-02</td>\n",
              "      <td>-8.274044e-03</td>\n",
              "      <td>2.509381e-02</td>\n",
              "      <td>1.207048e-02</td>\n",
              "      <td>-1.460335e-02</td>\n",
              "      <td>1.195961e-02</td>\n",
              "      <td>2.404768e-02</td>\n",
              "      <td>2.239325e-02</td>\n",
              "      <td>-2.644470e-02</td>\n",
              "    </tr>\n",
              "    <tr>\n",
              "      <th>lithium</th>\n",
              "      <td>0.005632</td>\n",
              "      <td>-0.021320</td>\n",
              "      <td>0.015961</td>\n",
              "      <td>-0.010390</td>\n",
              "      <td>-0.003346</td>\n",
              "      <td>-0.002918</td>\n",
              "      <td>-0.004638</td>\n",
              "      <td>0.040181</td>\n",
              "      <td>-0.007256</td>\n",
              "      <td>-0.003586</td>\n",
              "      <td>-0.004521</td>\n",
              "      <td>-0.002847</td>\n",
              "      <td>1.000000</td>\n",
              "      <td>-0.004521</td>\n",
              "      <td>1.048205e-02</td>\n",
              "      <td>-1.566004e-03</td>\n",
              "      <td>1.334820e-02</td>\n",
              "      <td>1.457993e-02</td>\n",
              "      <td>7.352883e-03</td>\n",
              "      <td>-2.218557e-03</td>\n",
              "      <td>7.336844e-03</td>\n",
              "      <td>3.837642e-02</td>\n",
              "      <td>7.320782e-03</td>\n",
              "      <td>-1.691905e-02</td>\n",
              "    </tr>\n",
              "    <tr>\n",
              "      <th>goitre</th>\n",
              "      <td>-0.010847</td>\n",
              "      <td>-0.037187</td>\n",
              "      <td>0.089982</td>\n",
              "      <td>-0.022790</td>\n",
              "      <td>0.003869</td>\n",
              "      <td>-0.020852</td>\n",
              "      <td>-0.022962</td>\n",
              "      <td>-0.024248</td>\n",
              "      <td>0.043595</td>\n",
              "      <td>0.078337</td>\n",
              "      <td>-0.032311</td>\n",
              "      <td>-0.020343</td>\n",
              "      <td>-0.004521</td>\n",
              "      <td>1.000000</td>\n",
              "      <td>-7.850485e-02</td>\n",
              "      <td>-1.588671e-02</td>\n",
              "      <td>-6.247311e-02</td>\n",
              "      <td>8.765019e-02</td>\n",
              "      <td>-8.903871e-02</td>\n",
              "      <td>4.054302e-02</td>\n",
              "      <td>-8.941415e-02</td>\n",
              "      <td>6.971617e-02</td>\n",
              "      <td>-8.979140e-02</td>\n",
              "      <td>-1.578048e-04</td>\n",
              "    </tr>\n",
              "    <tr>\n",
              "      <th>tsh_measured</th>\n",
              "      <td>-0.089129</td>\n",
              "      <td>0.201436</td>\n",
              "      <td>-0.036114</td>\n",
              "      <td>0.073711</td>\n",
              "      <td>-0.108053</td>\n",
              "      <td>-0.029449</td>\n",
              "      <td>0.036890</td>\n",
              "      <td>0.052553</td>\n",
              "      <td>-0.137236</td>\n",
              "      <td>0.008422</td>\n",
              "      <td>0.049338</td>\n",
              "      <td>-0.032524</td>\n",
              "      <td>0.010482</td>\n",
              "      <td>-0.078505</td>\n",
              "      <td>1.000000e+00</td>\n",
              "      <td>4.362989e-16</td>\n",
              "      <td>6.368966e-01</td>\n",
              "      <td>-4.324908e-02</td>\n",
              "      <td>6.981673e-01</td>\n",
              "      <td>-2.007243e-02</td>\n",
              "      <td>6.966311e-01</td>\n",
              "      <td>9.384068e-03</td>\n",
              "      <td>6.950926e-01</td>\n",
              "      <td>-3.662561e-02</td>\n",
              "    </tr>\n",
              "    <tr>\n",
              "      <th>tsh</th>\n",
              "      <td>-0.582010</td>\n",
              "      <td>-0.007429</td>\n",
              "      <td>0.034517</td>\n",
              "      <td>-0.003148</td>\n",
              "      <td>-0.014959</td>\n",
              "      <td>-0.001494</td>\n",
              "      <td>0.011183</td>\n",
              "      <td>0.066286</td>\n",
              "      <td>-0.024922</td>\n",
              "      <td>-0.013932</td>\n",
              "      <td>-0.007624</td>\n",
              "      <td>-0.019547</td>\n",
              "      <td>-0.001566</td>\n",
              "      <td>-0.015887</td>\n",
              "      <td>4.362989e-16</td>\n",
              "      <td>1.000000e+00</td>\n",
              "      <td>5.131072e-03</td>\n",
              "      <td>-1.716474e-01</td>\n",
              "      <td>3.152630e-04</td>\n",
              "      <td>-3.095646e-01</td>\n",
              "      <td>3.158438e-04</td>\n",
              "      <td>6.899334e-02</td>\n",
              "      <td>3.164283e-04</td>\n",
              "      <td>-2.441455e-01</td>\n",
              "    </tr>\n",
              "    <tr>\n",
              "      <th>t3_measured</th>\n",
              "      <td>-0.068682</td>\n",
              "      <td>0.176849</td>\n",
              "      <td>-0.098758</td>\n",
              "      <td>-0.161656</td>\n",
              "      <td>-0.087123</td>\n",
              "      <td>-0.018487</td>\n",
              "      <td>0.007929</td>\n",
              "      <td>-0.020277</td>\n",
              "      <td>-0.033276</td>\n",
              "      <td>0.031931</td>\n",
              "      <td>0.077848</td>\n",
              "      <td>-0.008274</td>\n",
              "      <td>0.013348</td>\n",
              "      <td>-0.062473</td>\n",
              "      <td>6.368966e-01</td>\n",
              "      <td>5.131072e-03</td>\n",
              "      <td>1.000000e+00</td>\n",
              "      <td>1.957061e-16</td>\n",
              "      <td>5.480169e-01</td>\n",
              "      <td>-6.782828e-02</td>\n",
              "      <td>5.468102e-01</td>\n",
              "      <td>-2.291519e-02</td>\n",
              "      <td>5.456016e-01</td>\n",
              "      <td>-4.891703e-02</td>\n",
              "    </tr>\n",
              "    <tr>\n",
              "      <th>t3</th>\n",
              "      <td>0.186543</td>\n",
              "      <td>-0.268648</td>\n",
              "      <td>0.077393</td>\n",
              "      <td>0.018801</td>\n",
              "      <td>-0.015147</td>\n",
              "      <td>0.063089</td>\n",
              "      <td>-0.008659</td>\n",
              "      <td>-0.042905</td>\n",
              "      <td>0.188833</td>\n",
              "      <td>0.201306</td>\n",
              "      <td>-0.100294</td>\n",
              "      <td>0.025094</td>\n",
              "      <td>0.014580</td>\n",
              "      <td>0.087650</td>\n",
              "      <td>-4.324908e-02</td>\n",
              "      <td>-1.716474e-01</td>\n",
              "      <td>1.957061e-16</td>\n",
              "      <td>1.000000e+00</td>\n",
              "      <td>9.865257e-04</td>\n",
              "      <td>5.453309e-01</td>\n",
              "      <td>9.883431e-04</td>\n",
              "      <td>3.880427e-01</td>\n",
              "      <td>9.901719e-04</td>\n",
              "      <td>2.939119e-01</td>\n",
              "    </tr>\n",
              "    <tr>\n",
              "      <th>tt4_measured</th>\n",
              "      <td>-0.065451</td>\n",
              "      <td>0.126393</td>\n",
              "      <td>-0.092071</td>\n",
              "      <td>0.060856</td>\n",
              "      <td>0.038886</td>\n",
              "      <td>-0.048139</td>\n",
              "      <td>0.007816</td>\n",
              "      <td>0.039701</td>\n",
              "      <td>-0.092001</td>\n",
              "      <td>-0.000340</td>\n",
              "      <td>0.032318</td>\n",
              "      <td>0.012070</td>\n",
              "      <td>0.007353</td>\n",
              "      <td>-0.089039</td>\n",
              "      <td>6.981673e-01</td>\n",
              "      <td>3.152630e-04</td>\n",
              "      <td>5.480169e-01</td>\n",
              "      <td>9.865257e-04</td>\n",
              "      <td>1.000000e+00</td>\n",
              "      <td>-1.636026e-16</td>\n",
              "      <td>9.978188e-01</td>\n",
              "      <td>-9.813771e-04</td>\n",
              "      <td>9.956342e-01</td>\n",
              "      <td>1.498077e-03</td>\n",
              "    </tr>\n",
              "    <tr>\n",
              "      <th>tt4</th>\n",
              "      <td>0.376579</td>\n",
              "      <td>-0.091175</td>\n",
              "      <td>0.172770</td>\n",
              "      <td>0.214168</td>\n",
              "      <td>-0.020100</td>\n",
              "      <td>-0.002968</td>\n",
              "      <td>-0.017646</td>\n",
              "      <td>-0.014915</td>\n",
              "      <td>0.150607</td>\n",
              "      <td>0.165402</td>\n",
              "      <td>-0.041733</td>\n",
              "      <td>-0.014603</td>\n",
              "      <td>-0.002219</td>\n",
              "      <td>0.040543</td>\n",
              "      <td>-2.007243e-02</td>\n",
              "      <td>-3.095646e-01</td>\n",
              "      <td>-6.782828e-02</td>\n",
              "      <td>5.453309e-01</td>\n",
              "      <td>-1.636026e-16</td>\n",
              "      <td>1.000000e+00</td>\n",
              "      <td>-5.225351e-17</td>\n",
              "      <td>3.228259e-01</td>\n",
              "      <td>-1.875832e-16</td>\n",
              "      <td>6.848721e-01</td>\n",
              "    </tr>\n",
              "    <tr>\n",
              "      <th>t4u_measured</th>\n",
              "      <td>-0.065308</td>\n",
              "      <td>0.124116</td>\n",
              "      <td>-0.091495</td>\n",
              "      <td>0.060482</td>\n",
              "      <td>0.038801</td>\n",
              "      <td>-0.048364</td>\n",
              "      <td>0.007613</td>\n",
              "      <td>0.039437</td>\n",
              "      <td>-0.092509</td>\n",
              "      <td>-0.000508</td>\n",
              "      <td>0.032167</td>\n",
              "      <td>0.011960</td>\n",
              "      <td>0.007337</td>\n",
              "      <td>-0.089414</td>\n",
              "      <td>6.966311e-01</td>\n",
              "      <td>3.158438e-04</td>\n",
              "      <td>5.468102e-01</td>\n",
              "      <td>9.883431e-04</td>\n",
              "      <td>9.978188e-01</td>\n",
              "      <td>-5.225351e-17</td>\n",
              "      <td>1.000000e+00</td>\n",
              "      <td>2.697578e-15</td>\n",
              "      <td>9.978107e-01</td>\n",
              "      <td>9.843027e-04</td>\n",
              "    </tr>\n",
              "    <tr>\n",
              "      <th>t4u</th>\n",
              "      <td>-0.081150</td>\n",
              "      <td>-0.194656</td>\n",
              "      <td>0.199584</td>\n",
              "      <td>0.071925</td>\n",
              "      <td>-0.034598</td>\n",
              "      <td>0.025797</td>\n",
              "      <td>0.024006</td>\n",
              "      <td>0.035266</td>\n",
              "      <td>0.071976</td>\n",
              "      <td>0.324259</td>\n",
              "      <td>-0.047898</td>\n",
              "      <td>0.024048</td>\n",
              "      <td>0.038376</td>\n",
              "      <td>0.069716</td>\n",
              "      <td>9.384068e-03</td>\n",
              "      <td>6.899334e-02</td>\n",
              "      <td>-2.291519e-02</td>\n",
              "      <td>3.880427e-01</td>\n",
              "      <td>-9.813771e-04</td>\n",
              "      <td>3.228259e-01</td>\n",
              "      <td>2.697578e-15</td>\n",
              "      <td>1.000000e+00</td>\n",
              "      <td>2.608239e-15</td>\n",
              "      <td>-2.832527e-01</td>\n",
              "    </tr>\n",
              "    <tr>\n",
              "      <th>fti_measured</th>\n",
              "      <td>-0.065165</td>\n",
              "      <td>0.124665</td>\n",
              "      <td>-0.093521</td>\n",
              "      <td>0.063447</td>\n",
              "      <td>0.038716</td>\n",
              "      <td>-0.048590</td>\n",
              "      <td>0.007410</td>\n",
              "      <td>0.039171</td>\n",
              "      <td>-0.093020</td>\n",
              "      <td>-0.000677</td>\n",
              "      <td>0.032014</td>\n",
              "      <td>0.022393</td>\n",
              "      <td>0.007321</td>\n",
              "      <td>-0.089791</td>\n",
              "      <td>6.950926e-01</td>\n",
              "      <td>3.164283e-04</td>\n",
              "      <td>5.456016e-01</td>\n",
              "      <td>9.901719e-04</td>\n",
              "      <td>9.956342e-01</td>\n",
              "      <td>-1.875832e-16</td>\n",
              "      <td>9.978107e-01</td>\n",
              "      <td>2.608239e-15</td>\n",
              "      <td>1.000000e+00</td>\n",
              "      <td>-2.697357e-17</td>\n",
              "    </tr>\n",
              "    <tr>\n",
              "      <th>fti</th>\n",
              "      <td>0.316258</td>\n",
              "      <td>0.015460</td>\n",
              "      <td>0.077641</td>\n",
              "      <td>0.113521</td>\n",
              "      <td>-0.004386</td>\n",
              "      <td>-0.017410</td>\n",
              "      <td>-0.026322</td>\n",
              "      <td>-0.046753</td>\n",
              "      <td>0.077633</td>\n",
              "      <td>-0.007124</td>\n",
              "      <td>-0.023051</td>\n",
              "      <td>-0.026445</td>\n",
              "      <td>-0.016919</td>\n",
              "      <td>-0.000158</td>\n",
              "      <td>-3.662561e-02</td>\n",
              "      <td>-2.441455e-01</td>\n",
              "      <td>-4.891703e-02</td>\n",
              "      <td>2.939119e-01</td>\n",
              "      <td>1.498077e-03</td>\n",
              "      <td>6.848721e-01</td>\n",
              "      <td>9.843027e-04</td>\n",
              "      <td>-2.832527e-01</td>\n",
              "      <td>-2.697357e-17</td>\n",
              "      <td>1.000000e+00</td>\n",
              "    </tr>\n",
              "  </tbody>\n",
              "</table>\n",
              "</div>"
            ],
            "text/plain": [
              "                             status       age  ...  fti_measured           fti\n",
              "status                     1.000000 -0.035415  ... -6.516520e-02  3.162585e-01\n",
              "age                       -0.035415  1.000000  ...  1.246650e-01  1.546035e-02\n",
              "sex                       -0.017527 -0.008913  ... -9.352097e-02  7.764058e-02\n",
              "on_thyroxine               0.033652 -0.001492  ...  6.344687e-02  1.135207e-01\n",
              "query_on_thyroxine         0.029785 -0.019763  ...  3.871645e-02 -4.386403e-03\n",
              "on_antithyroid_medication  0.013020 -0.058943  ... -4.858990e-02 -1.741018e-02\n",
              "thyroid_surgery           -0.041868 -0.012284  ...  7.409903e-03 -2.632235e-02\n",
              "query_hypothyroid         -0.047477  0.048322  ...  3.917118e-02 -4.675330e-02\n",
              "query_hyperthyroid         0.025616 -0.087881  ... -9.302042e-02  7.763311e-02\n",
              "pregnant                   0.021306 -0.159354  ... -6.772365e-04 -7.124221e-03\n",
              "sick                       0.023216  0.064631  ...  3.201426e-02 -2.305115e-02\n",
              "tumor                      0.025340 -0.063094  ...  2.239325e-02 -2.644470e-02\n",
              "lithium                    0.005632 -0.021320  ...  7.320782e-03 -1.691905e-02\n",
              "goitre                    -0.010847 -0.037187  ... -8.979140e-02 -1.578048e-04\n",
              "tsh_measured              -0.089129  0.201436  ...  6.950926e-01 -3.662561e-02\n",
              "tsh                       -0.582010 -0.007429  ...  3.164283e-04 -2.441455e-01\n",
              "t3_measured               -0.068682  0.176849  ...  5.456016e-01 -4.891703e-02\n",
              "t3                         0.186543 -0.268648  ...  9.901719e-04  2.939119e-01\n",
              "tt4_measured              -0.065451  0.126393  ...  9.956342e-01  1.498077e-03\n",
              "tt4                        0.376579 -0.091175  ... -1.875832e-16  6.848721e-01\n",
              "t4u_measured              -0.065308  0.124116  ...  9.978107e-01  9.843027e-04\n",
              "t4u                       -0.081150 -0.194656  ...  2.608239e-15 -2.832527e-01\n",
              "fti_measured              -0.065165  0.124665  ...  1.000000e+00 -2.697357e-17\n",
              "fti                        0.316258  0.015460  ... -2.697357e-17  1.000000e+00\n",
              "\n",
              "[24 rows x 24 columns]"
            ]
          },
          "metadata": {
            "tags": []
          },
          "execution_count": 192
        }
      ]
    },
    {
      "cell_type": "code",
      "metadata": {
        "colab": {
          "base_uri": "https://localhost:8080/",
          "height": 764
        },
        "id": "q6L1aREt4nsd",
        "outputId": "a00ec3ba-98ea-46bc-c6d2-59b2d61f1fff"
      },
      "source": [
        "#Ill then a plot a heatmap to show the coorelation of the variables\n",
        "correlation= df_copy.corr() \n",
        "plt.figure(figsize = (20,10))\n",
        "sns.heatmap(correlation, xticklabels=correlation.columns, yticklabels=correlation.columns, annot=True)\n",
        "plt.title('A Heatmap of Patient Correlation in our Dataset', color='black')\n",
        "plt.show()\n"
      ],
      "execution_count": 193,
      "outputs": [
        {
          "output_type": "execute_result",
          "data": {
            "text/plain": [
              "<Figure size 1440x720 with 0 Axes>"
            ]
          },
          "metadata": {
            "tags": []
          },
          "execution_count": 193
        },
        {
          "output_type": "execute_result",
          "data": {
            "text/plain": [
              "<matplotlib.axes._subplots.AxesSubplot at 0x7f1a58e7e690>"
            ]
          },
          "metadata": {
            "tags": []
          },
          "execution_count": 193
        },
        {
          "output_type": "execute_result",
          "data": {
            "text/plain": [
              "Text(0.5, 1.0, 'A Heatmap of Patient Correlation in our Dataset')"
            ]
          },
          "metadata": {
            "tags": []
          },
          "execution_count": 193
        },
        {
          "output_type": "display_data",
          "data": {
            "image/png": "[encoded data removed]",
            "text/plain": [
              "<Figure size 1440x720 with 2 Axes>"
            ]
          },
          "metadata": {
            "tags": [],
            "needs_background": "light"
          }
        }
      ]
    },
    {
      "cell_type": "markdown",
      "metadata": {
        "id": "wrbhHytr_ScP"
      },
      "source": [
        "***Conclusion***\n",
        "\n",
        "1. Problem that were encountered was the pairplot was not running \n",
        "2. From the above EDA, I chose not to drop the outliers for this project cause it will take a high percentage of data.\n",
        "3. I also found out that most patients were Females.\n",
        "4. Most patients were from the age 50 and 60.\n"
      ]
    },
    {
      "cell_type": "markdown",
      "metadata": {
        "id": "S26gbBLu_XLi"
      },
      "source": [
        "## ***Modelling***"
      ]
    },
    {
      "cell_type": "markdown",
      "metadata": {
        "id": "mDsG1Do2_oa_"
      },
      "source": [
        "### ***Random Forest Classifier***\n"
      ]
    },
    {
      "cell_type": "code",
      "metadata": {
        "id": "h8eZcjXjANN_"
      },
      "source": [
        "#Ill first seperate the depenent variable and the independent variable\n",
        "independent = df_copy.drop('status', 1)\n",
        "dependent = df_copy['status']"
      ],
      "execution_count": 194,
      "outputs": []
    },
    {
      "cell_type": "code",
      "metadata": {
        "colab": {
          "base_uri": "https://localhost:8080/"
        },
        "id": "WbjMrGvgCGy9",
        "outputId": "6776d137-d0d0-49a2-ed39-ceb021134e71"
      },
      "source": [
        "#ILl then  split the data into training and test sets.\n",
        "X_train, X_test, y_train, y_test = train_test_split(independent, dependent, test_size=.25, random_state=34)\n",
        "#Ill then print out the shape of the train set and test set\n",
        "print('X_train shape: ', X_train.shape, '\\nY_Train Shape:', y_train.shape)\n",
        "print('X_test  shape: ', X_test.shape, '\\nY_Test Shape:', y_test.shape)"
      ],
      "execution_count": 195,
      "outputs": [
        {
          "output_type": "stream",
          "text": [
            "X_train shape:  (2372, 23) \n",
            "Y_Train Shape: (2372,)\n",
            "X_test  shape:  (791, 23) \n",
            "Y_Test Shape: (791,)\n"
          ],
          "name": "stdout"
        }
      ]
    },
    {
      "cell_type": "code",
      "metadata": {
        "id": "z_jUOgWRDauD"
      },
      "source": [
        "# Ill then scale the train and test sets using stadard scaler\n",
        "scaler = StandardScaler()\n",
        "X_train = scaler.fit_transform(X_train)\n",
        "X_test = scaler.transform(X_test)"
      ],
      "execution_count": 196,
      "outputs": []
    },
    {
      "cell_type": "code",
      "metadata": {
        "id": "BEgZhaSxDoPe"
      },
      "source": [
        "# Ill then instantiate the random forest classifier object\n",
        "rfc = RandomForestClassifier(n_estimators=100, random_state=42, min_samples_split=20, max_depth=5)\n",
        "rfc = rfc.fit(X_train, y_train)\n",
        "rfc_pred = rfc.predict(X_test)"
      ],
      "execution_count": 197,
      "outputs": []
    },
    {
      "cell_type": "code",
      "metadata": {
        "colab": {
          "base_uri": "https://localhost:8080/",
          "height": 204
        },
        "id": "M6CSxOe5FUh6",
        "outputId": "672de9ec-a755-4cf8-9372-e35e2e610e91"
      },
      "source": [
        "#Ill check my models predictions\n",
        "greg_Predicted = pd.DataFrame({'Actual': y_test, 'Predicted': rfc_pred})\n",
        "greg_Predicted.head()"
      ],
      "execution_count": 198,
      "outputs": [
        {
          "output_type": "execute_result",
          "data": {
            "text/html": [
              "<div>\n",
              "<style scoped>\n",
              "    .dataframe tbody tr th:only-of-type {\n",
              "        vertical-align: middle;\n",
              "    }\n",
              "\n",
              "    .dataframe tbody tr th {\n",
              "        vertical-align: top;\n",
              "    }\n",
              "\n",
              "    .dataframe thead th {\n",
              "        text-align: right;\n",
              "    }\n",
              "</style>\n",
              "<table border=\"1\" class=\"dataframe\">\n",
              "  <thead>\n",
              "    <tr style=\"text-align: right;\">\n",
              "      <th></th>\n",
              "      <th>Actual</th>\n",
              "      <th>Predicted</th>\n",
              "    </tr>\n",
              "  </thead>\n",
              "  <tbody>\n",
              "    <tr>\n",
              "      <th>1752</th>\n",
              "      <td>1</td>\n",
              "      <td>1</td>\n",
              "    </tr>\n",
              "    <tr>\n",
              "      <th>1643</th>\n",
              "      <td>1</td>\n",
              "      <td>1</td>\n",
              "    </tr>\n",
              "    <tr>\n",
              "      <th>2410</th>\n",
              "      <td>1</td>\n",
              "      <td>1</td>\n",
              "    </tr>\n",
              "    <tr>\n",
              "      <th>2561</th>\n",
              "      <td>1</td>\n",
              "      <td>1</td>\n",
              "    </tr>\n",
              "    <tr>\n",
              "      <th>103</th>\n",
              "      <td>0</td>\n",
              "      <td>0</td>\n",
              "    </tr>\n",
              "  </tbody>\n",
              "</table>\n",
              "</div>"
            ],
            "text/plain": [
              "      Actual  Predicted\n",
              "1752       1          1\n",
              "1643       1          1\n",
              "2410       1          1\n",
              "2561       1          1\n",
              "103        0          0"
            ]
          },
          "metadata": {
            "tags": []
          },
          "execution_count": 198
        }
      ]
    },
    {
      "cell_type": "code",
      "metadata": {
        "colab": {
          "base_uri": "https://localhost:8080/"
        },
        "id": "Lb7bS85dF9v4",
        "outputId": "e4d404f1-3f1b-4358-8c5c-8a6d34209833"
      },
      "source": [
        "# ILl then print out the \n",
        "print('Mean Absolute Error:', metrics.mean_absolute_error(y_test, rfc_pred))  \n",
        "print('Mean Squared Error:', metrics.mean_squared_error(y_test, rfc_pred))  \n",
        "print('Root Mean Squared Error:', np.sqrt(metrics.mean_squared_error(y_test, rfc_pred)))\n",
        "print('R2 squared:', metrics.r2_score(y_test, rfc_pred)) \n",
        "print('Accuracy Score:', metrics.accuracy_score(y_test, rfc_pred))"
      ],
      "execution_count": 199,
      "outputs": [
        {
          "output_type": "stream",
          "text": [
            "Mean Absolute Error: 0.008849557522123894\n",
            "Mean Squared Error: 0.008849557522123894\n",
            "Root Mean Squared Error: 0.09407208683835973\n",
            "R2 squared: 0.7494343379491357\n",
            "Accuracy Score: 0.9911504424778761\n"
          ],
          "name": "stdout"
        }
      ]
    },
    {
      "cell_type": "markdown",
      "metadata": {
        "id": "vFfqQAF0HPRy"
      },
      "source": [
        "***The accuracy of this model shows a 99% accuracy,It could be overfitting***"
      ]
    },
    {
      "cell_type": "code",
      "metadata": {
        "colab": {
          "base_uri": "https://localhost:8080/",
          "height": 809
        },
        "id": "5yGwBDYvHZuF",
        "outputId": "58c932a2-f9f1-448b-94e9-2b43ce43e403"
      },
      "source": [
        "\n",
        "# lll then plott the decision trees from the random forest\n",
        "dot_data = StringIO()\n",
        "test_features = df_copy.columns.to_list()\n",
        "test_features.remove('status')\n",
        "tree = rfc.estimators_[50]\n",
        "\n",
        "export_graphviz(tree, out_file=dot_data, filled=True, rounded=True, \\\n",
        "                special_characters=True, feature_names=test_features)\n",
        "graph = pydotplus.graph_from_dot_data(dot_data.getvalue())\n",
        "graph.write_png('hypothyroidism_forest.png')\n",
        "Image(graph.create_png())"
      ],
      "execution_count": 200,
      "outputs": [
        {
          "output_type": "execute_result",
          "data": {
            "text/plain": [
              "True"
            ]
          },
          "metadata": {
            "tags": []
          },
          "execution_count": 200
        },
        {
          "output_type": "execute_result",
          "data": {
            "image/png": "[encoded data removed]",
            "text/plain": [
              "<IPython.core.display.Image object>"
            ]
          },
          "metadata": {
            "tags": []
          },
          "execution_count": 200
        }
      ]
    },
    {
      "cell_type": "markdown",
      "metadata": {
        "id": "J70fYiIpIz7_"
      },
      "source": [
        "***Conclusion***\n",
        "\n",
        "The plot shows the most important features in predicting whether a person is hypothyroid or not.\n",
        "\n",
        "**. the most import feature is fti test which accounts for 76% of the total feature importance**\n"
      ]
    },
    {
      "cell_type": "markdown",
      "metadata": {
        "id": "xreDIsjFKqBR"
      },
      "source": [
        "## ***Gradient Boosting Classifier***"
      ]
    },
    {
      "cell_type": "code",
      "metadata": {
        "id": "lb1DvCuoKva4"
      },
      "source": [
        "#ILl then  split the data into training and test sets.\n",
        "X_train, X_test, y_train, y_test = train_test_split(independent, dependent, test_size=.25, random_state=34)\n"
      ],
      "execution_count": 203,
      "outputs": []
    },
    {
      "cell_type": "code",
      "metadata": {
        "id": "NkUe9NS4MK4Y"
      },
      "source": [
        "# Ill then scale the train and test sets using MinMaxScaler\n",
        "mscaler = MinMaxScaler()\n",
        "X_train = mscaler.fit_transform(X_train)\n",
        "X_test = mscaler.transform(X_test)"
      ],
      "execution_count": 204,
      "outputs": []
    },
    {
      "cell_type": "code",
      "metadata": {
        "colab": {
          "base_uri": "https://localhost:8080/"
        },
        "id": "Qxa193qsMo3k",
        "outputId": "78ab5054-c6e2-4ae8-dc1a-2df0f65a1f1b"
      },
      "source": [
        "#Ill first create  a list so as to get the best learning rate\n",
        "list = [.05, .075, .1, .25, .5, .75, 1]\n",
        "\n",
        "for x in list:\n",
        "  gboost = GradientBoostingClassifier(n_estimators=100, learning_rate=x, \\\n",
        "                                      max_features=2, max_depth=5, random_state=42)\n",
        "  gboost.fit(X_train, y_train)\n",
        "\n",
        "  print('Learning rate: ', x)\n",
        "  print('Training set accuracy score: {0:.3f}' .format(gboost.score(X_train, y_train)))\n",
        "  print('Test set accuracy score: {0:.3f}' .format(gboost.score(X_test, y_test)))\n",
        "\n",
        "  \n",
        "\n",
        "# The output shows the best learing rate is 0.25"
      ],
      "execution_count": 205,
      "outputs": [
        {
          "output_type": "execute_result",
          "data": {
            "text/plain": [
              "GradientBoostingClassifier(ccp_alpha=0.0, criterion='friedman_mse', init=None,\n",
              "                           learning_rate=0.05, loss='deviance', max_depth=5,\n",
              "                           max_features=2, max_leaf_nodes=None,\n",
              "                           min_impurity_decrease=0.0, min_impurity_split=None,\n",
              "                           min_samples_leaf=1, min_samples_split=2,\n",
              "                           min_weight_fraction_leaf=0.0, n_estimators=100,\n",
              "                           n_iter_no_change=None, presort='deprecated',\n",
              "                           random_state=42, subsample=1.0, tol=0.0001,\n",
              "                           validation_fraction=0.1, verbose=0,\n",
              "                           warm_start=False)"
            ]
          },
          "metadata": {
            "tags": []
          },
          "execution_count": 205
        },
        {
          "output_type": "stream",
          "text": [
            "Learning rate:  0.05\n",
            "Training set accuracy score: 0.997\n",
            "Test set accuracy score: 0.991\n"
          ],
          "name": "stdout"
        },
        {
          "output_type": "execute_result",
          "data": {
            "text/plain": [
              "GradientBoostingClassifier(ccp_alpha=0.0, criterion='friedman_mse', init=None,\n",
              "                           learning_rate=0.075, loss='deviance', max_depth=5,\n",
              "                           max_features=2, max_leaf_nodes=None,\n",
              "                           min_impurity_decrease=0.0, min_impurity_split=None,\n",
              "                           min_samples_leaf=1, min_samples_split=2,\n",
              "                           min_weight_fraction_leaf=0.0, n_estimators=100,\n",
              "                           n_iter_no_change=None, presort='deprecated',\n",
              "                           random_state=42, subsample=1.0, tol=0.0001,\n",
              "                           validation_fraction=0.1, verbose=0,\n",
              "                           warm_start=False)"
            ]
          },
          "metadata": {
            "tags": []
          },
          "execution_count": 205
        },
        {
          "output_type": "stream",
          "text": [
            "Learning rate:  0.075\n",
            "Training set accuracy score: 0.998\n",
            "Test set accuracy score: 0.991\n"
          ],
          "name": "stdout"
        },
        {
          "output_type": "execute_result",
          "data": {
            "text/plain": [
              "GradientBoostingClassifier(ccp_alpha=0.0, criterion='friedman_mse', init=None,\n",
              "                           learning_rate=0.1, loss='deviance', max_depth=5,\n",
              "                           max_features=2, max_leaf_nodes=None,\n",
              "                           min_impurity_decrease=0.0, min_impurity_split=None,\n",
              "                           min_samples_leaf=1, min_samples_split=2,\n",
              "                           min_weight_fraction_leaf=0.0, n_estimators=100,\n",
              "                           n_iter_no_change=None, presort='deprecated',\n",
              "                           random_state=42, subsample=1.0, tol=0.0001,\n",
              "                           validation_fraction=0.1, verbose=0,\n",
              "                           warm_start=False)"
            ]
          },
          "metadata": {
            "tags": []
          },
          "execution_count": 205
        },
        {
          "output_type": "stream",
          "text": [
            "Learning rate:  0.1\n",
            "Training set accuracy score: 1.000\n",
            "Test set accuracy score: 0.991\n"
          ],
          "name": "stdout"
        },
        {
          "output_type": "execute_result",
          "data": {
            "text/plain": [
              "GradientBoostingClassifier(ccp_alpha=0.0, criterion='friedman_mse', init=None,\n",
              "                           learning_rate=0.25, loss='deviance', max_depth=5,\n",
              "                           max_features=2, max_leaf_nodes=None,\n",
              "                           min_impurity_decrease=0.0, min_impurity_split=None,\n",
              "                           min_samples_leaf=1, min_samples_split=2,\n",
              "                           min_weight_fraction_leaf=0.0, n_estimators=100,\n",
              "                           n_iter_no_change=None, presort='deprecated',\n",
              "                           random_state=42, subsample=1.0, tol=0.0001,\n",
              "                           validation_fraction=0.1, verbose=0,\n",
              "                           warm_start=False)"
            ]
          },
          "metadata": {
            "tags": []
          },
          "execution_count": 205
        },
        {
          "output_type": "stream",
          "text": [
            "Learning rate:  0.25\n",
            "Training set accuracy score: 1.000\n",
            "Test set accuracy score: 0.992\n"
          ],
          "name": "stdout"
        },
        {
          "output_type": "execute_result",
          "data": {
            "text/plain": [
              "GradientBoostingClassifier(ccp_alpha=0.0, criterion='friedman_mse', init=None,\n",
              "                           learning_rate=0.5, loss='deviance', max_depth=5,\n",
              "                           max_features=2, max_leaf_nodes=None,\n",
              "                           min_impurity_decrease=0.0, min_impurity_split=None,\n",
              "                           min_samples_leaf=1, min_samples_split=2,\n",
              "                           min_weight_fraction_leaf=0.0, n_estimators=100,\n",
              "                           n_iter_no_change=None, presort='deprecated',\n",
              "                           random_state=42, subsample=1.0, tol=0.0001,\n",
              "                           validation_fraction=0.1, verbose=0,\n",
              "                           warm_start=False)"
            ]
          },
          "metadata": {
            "tags": []
          },
          "execution_count": 205
        },
        {
          "output_type": "stream",
          "text": [
            "Learning rate:  0.5\n",
            "Training set accuracy score: 0.683\n",
            "Test set accuracy score: 0.661\n"
          ],
          "name": "stdout"
        },
        {
          "output_type": "execute_result",
          "data": {
            "text/plain": [
              "GradientBoostingClassifier(ccp_alpha=0.0, criterion='friedman_mse', init=None,\n",
              "                           learning_rate=0.75, loss='deviance', max_depth=5,\n",
              "                           max_features=2, max_leaf_nodes=None,\n",
              "                           min_impurity_decrease=0.0, min_impurity_split=None,\n",
              "                           min_samples_leaf=1, min_samples_split=2,\n",
              "                           min_weight_fraction_leaf=0.0, n_estimators=100,\n",
              "                           n_iter_no_change=None, presort='deprecated',\n",
              "                           random_state=42, subsample=1.0, tol=0.0001,\n",
              "                           validation_fraction=0.1, verbose=0,\n",
              "                           warm_start=False)"
            ]
          },
          "metadata": {
            "tags": []
          },
          "execution_count": 205
        },
        {
          "output_type": "stream",
          "text": [
            "Learning rate:  0.75\n",
            "Training set accuracy score: 1.000\n",
            "Test set accuracy score: 0.985\n"
          ],
          "name": "stdout"
        },
        {
          "output_type": "execute_result",
          "data": {
            "text/plain": [
              "GradientBoostingClassifier(ccp_alpha=0.0, criterion='friedman_mse', init=None,\n",
              "                           learning_rate=1, loss='deviance', max_depth=5,\n",
              "                           max_features=2, max_leaf_nodes=None,\n",
              "                           min_impurity_decrease=0.0, min_impurity_split=None,\n",
              "                           min_samples_leaf=1, min_samples_split=2,\n",
              "                           min_weight_fraction_leaf=0.0, n_estimators=100,\n",
              "                           n_iter_no_change=None, presort='deprecated',\n",
              "                           random_state=42, subsample=1.0, tol=0.0001,\n",
              "                           validation_fraction=0.1, verbose=0,\n",
              "                           warm_start=False)"
            ]
          },
          "metadata": {
            "tags": []
          },
          "execution_count": 205
        },
        {
          "output_type": "stream",
          "text": [
            "Learning rate:  1\n",
            "Training set accuracy score: 0.807\n",
            "Test set accuracy score: 0.804\n"
          ],
          "name": "stdout"
        }
      ]
    },
    {
      "cell_type": "code",
      "metadata": {
        "colab": {
          "base_uri": "https://localhost:8080/"
        },
        "id": "xOuqCVZKaKHQ",
        "outputId": "bae7fb7a-60a9-4ba9-e317-a411ce55f1fe"
      },
      "source": [
        "#ILl then get the accuracy score of the model\n",
        "gb_clf = GradientBoostingClassifier(n_estimators=20, learning_rate=0.25, \\\n",
        "                                  max_features=2, max_depth=5, random_state=42)\n",
        "gb_clf.fit(X_train, y_train)\n",
        "gb_pred = gb_clf.predict(X_test)\n",
        "print('\\nAccuracy Score: ', metrics.accuracy_score(y_test, gb_pred))\n"
      ],
      "execution_count": 206,
      "outputs": [
        {
          "output_type": "execute_result",
          "data": {
            "text/plain": [
              "GradientBoostingClassifier(ccp_alpha=0.0, criterion='friedman_mse', init=None,\n",
              "                           learning_rate=0.25, loss='deviance', max_depth=5,\n",
              "                           max_features=2, max_leaf_nodes=None,\n",
              "                           min_impurity_decrease=0.0, min_impurity_split=None,\n",
              "                           min_samples_leaf=1, min_samples_split=2,\n",
              "                           min_weight_fraction_leaf=0.0, n_estimators=20,\n",
              "                           n_iter_no_change=None, presort='deprecated',\n",
              "                           random_state=42, subsample=1.0, tol=0.0001,\n",
              "                           validation_fraction=0.1, verbose=0,\n",
              "                           warm_start=False)"
            ]
          },
          "metadata": {
            "tags": []
          },
          "execution_count": 206
        },
        {
          "output_type": "stream",
          "text": [
            "\n",
            "Accuracy Score:  0.9873577749683944\n"
          ],
          "name": "stdout"
        }
      ]
    },
    {
      "cell_type": "markdown",
      "metadata": {
        "id": "ncKiNIFeZ4Cr"
      },
      "source": [
        "## ***ADA Boost Classifier***"
      ]
    },
    {
      "cell_type": "code",
      "metadata": {
        "id": "PIjvgMHbb-ZL"
      },
      "source": [
        "#ILl then  split the data into training and test sets.\n",
        "X_train, X_test, y_train, y_test = train_test_split(independent, dependent, test_size=.25, random_state=34)"
      ],
      "execution_count": 207,
      "outputs": []
    },
    {
      "cell_type": "code",
      "metadata": {
        "id": "XD4QnwsRcCAT"
      },
      "source": [
        "# ILl then instantiate the ada boost classifier object\n",
        "\n",
        "ADA = AdaBoostClassifier(n_estimators=50, learning_rate=1)\n",
        "ADA_boost= ADA.fit(X_train, y_train)\n",
        "ADApred = ADA_boost.predict(X_test)"
      ],
      "execution_count": 208,
      "outputs": []
    },
    {
      "cell_type": "code",
      "metadata": {
        "colab": {
          "base_uri": "https://localhost:8080/"
        },
        "id": "Kv-MxQm6cgW8",
        "outputId": "1bd44758-d083-4a4c-8d3c-4576e50e7a78"
      },
      "source": [
        "# ill then get the accuracy of the model\n",
        "from IPython.core.interactiveshell import InteractiveShell\n",
        "InteractiveShell.ast_node_interactivity = \"all\"\n",
        "\n",
        "print('Ada Boost Classifier Accuracy: ', round(metrics.accuracy_score(y_test, ADApred) * 100, 2),'%')"
      ],
      "execution_count": 209,
      "outputs": [
        {
          "output_type": "stream",
          "text": [
            "Ada Boost Classifier Accuracy:  99.12 %\n"
          ],
          "name": "stdout"
        }
      ]
    },
    {
      "cell_type": "markdown",
      "metadata": {
        "id": "Ynnd0D5ldCUw"
      },
      "source": [
        "## ***Support Vector Machines***"
      ]
    },
    {
      "cell_type": "code",
      "metadata": {
        "colab": {
          "base_uri": "https://localhost:8080/",
          "height": 416
        },
        "id": "5BJulV8OdHsS",
        "outputId": "246d227c-d2c8-4138-cda8-e2a7f49a568d"
      },
      "source": [
        "# Ill then plot data and regression model\n",
        "plt.figure(figsize=(10,8))\n",
        "sample_hypo = df_copy.sample(300, random_state=308)\n",
        "sns.lmplot('tsh', 'tt4', data=sample_hypo, hue='status', legend=False, palette='Set1', fit_reg=False, scatter_kws={'s': 70})\n",
        "plt.legend({'Hypothroidism': 0, 'Negative': 1})\n",
        "plt.title('TSH and TT4 test as the variable is equal to Status')\n",
        "plt.show();\n"
      ],
      "execution_count": 210,
      "outputs": [
        {
          "output_type": "display_data",
          "data": {
            "text/plain": [
              "<Figure size 720x576 with 0 Axes>"
            ]
          },
          "metadata": {
            "tags": []
          }
        },
        {
          "output_type": "display_data",
          "data": {
            "image/png": "[encoded data removed]",
            "text/plain": [
              "<Figure size 360x360 with 1 Axes>"
            ]
          },
          "metadata": {
            "tags": [],
            "needs_background": "light"
          }
        }
      ]
    },
    {
      "cell_type": "markdown",
      "metadata": {
        "id": "rWHnHP6IhcQD"
      },
      "source": [
        "### ***Fitting the Model***"
      ]
    },
    {
      "cell_type": "code",
      "metadata": {
        "id": "D29ZuhqnhRdb"
      },
      "source": [
        "# Ill then input the model\n",
        "fitting= sample_hypo[['tsh', 'tt4']].values\n",
        "# specifying label for the model\n",
        "label_type = sample_hypo['status'].values\n",
        "X_train, X_test, y_train, y_test = train_test_split(fitting, label_type, test_size=.25, random_state=34)"
      ],
      "execution_count": 211,
      "outputs": []
    },
    {
      "cell_type": "code",
      "metadata": {
        "id": "EV8L81VDihtd"
      },
      "source": [
        "# fitting the model\n",
        "svmodel = SVC(kernel = 'linear')\n",
        "svclass = svmodel.fit(X_train, y_train)"
      ],
      "execution_count": 212,
      "outputs": []
    },
    {
      "cell_type": "code",
      "metadata": {
        "colab": {
          "base_uri": "https://localhost:8080/",
          "height": 302
        },
        "id": "saLZUrhZi2ng",
        "outputId": "e42b5dd1-920b-42f8-c743-9fdcc874e50f"
      },
      "source": [
        "# Create a mesh grid for our graph\n",
        "def make_meshgrid(x, y, h=.02):\n",
        "    x_min, x_max = x.min() - 1, x.max() + 1\n",
        "    y_min, y_max = y.min() - 1, y.max() + 1\n",
        "    xx, yy = np.meshgrid(np.arange(x_min, x_max, h), np.arange(y_min, y_max, h))\n",
        "    return xx, yy\n",
        "\n",
        "# A function that creates the hyperplanes from our model\n",
        "def plot_contours(ax, clf, xx, yy, **params):\n",
        "    Z = svclass.predict(np.c_[xx.ravel(), yy.ravel()])\n",
        "    Z = Z.reshape(xx.shape)\n",
        "    out = ax.contourf(xx, yy, Z, **params)\n",
        "    return out\n",
        "\n",
        "fig, ax = plt.subplots()\n",
        "# title for the plots\n",
        "title = ('Hypothyroid Classification with linear SVC')\n",
        "# Set-up grid for plotting.\n",
        "t_sam = np.random.choice(fitting[:, 0], 300)\n",
        "t_sam2 = np.random.choice(fitting[:, 1], 300)\n",
        "X0, X1 = t_sam,t_sam2\n",
        "xx, yy = make_meshgrid(X0, X1)\n",
        "\n",
        "plot_contours(ax, svclass, xx, yy, cmap=plt.cm.coolwarm, alpha=0.8)\n",
        "ax.scatter(X0, X1, c=label_type, cmap=plt.cm.coolwarm, s=20, edgecolors='k')\n",
        "# ax.set_ylabel('TT4')\n",
        "# ax.set_xlabel('TSH')\n",
        "ax.set_xticks(())\n",
        "# ax.legend(['Hypothyroid', 'Negative'])\n",
        "ax.set_yticks(())\n",
        "ax.set_title(title)\n",
        "plt.show()"
      ],
      "execution_count": 213,
      "outputs": [
        {
          "output_type": "execute_result",
          "data": {
            "text/plain": [
              "<matplotlib.contour.QuadContourSet at 0x7f1a65ad9390>"
            ]
          },
          "metadata": {
            "tags": []
          },
          "execution_count": 213
        },
        {
          "output_type": "execute_result",
          "data": {
            "text/plain": [
              "<matplotlib.collections.PathCollection at 0x7f1a6cfe7750>"
            ]
          },
          "metadata": {
            "tags": []
          },
          "execution_count": 213
        },
        {
          "output_type": "execute_result",
          "data": {
            "text/plain": [
              "[]"
            ]
          },
          "metadata": {
            "tags": []
          },
          "execution_count": 213
        },
        {
          "output_type": "execute_result",
          "data": {
            "text/plain": [
              "[]"
            ]
          },
          "metadata": {
            "tags": []
          },
          "execution_count": 213
        },
        {
          "output_type": "execute_result",
          "data": {
            "text/plain": [
              "Text(0.5, 1.0, 'Hypothyroid Classification with linear SVC')"
            ]
          },
          "metadata": {
            "tags": []
          },
          "execution_count": 213
        },
        {
          "output_type": "display_data",
          "data": {
            "image/png": "[encoded data removed]",
            "text/plain": [
              "<Figure size 432x288 with 1 Axes>"
            ]
          },
          "metadata": {
            "tags": []
          }
        }
      ]
    },
    {
      "cell_type": "code",
      "metadata": {
        "id": "-SfzEZREjHlI"
      },
      "source": [
        "# Ill first take a sample of the dataframe\n",
        "sample= df_copy.sample(300, random_state=308)\n"
      ],
      "execution_count": 214,
      "outputs": []
    },
    {
      "cell_type": "code",
      "metadata": {
        "colab": {
          "base_uri": "https://localhost:8080/"
        },
        "id": "kUA7c9Cij-J7",
        "outputId": "8a41ffb2-2159-46a9-c6ae-9bbc9c1d5871"
      },
      "source": [
        "# input for the model\n",
        "sample_feat = sample[['tsh', 'tt4']].values\n",
        "# specifying label for the model\n",
        "katono = sample['status'].values\n",
        "\n",
        "sample_feat.shape\n"
      ],
      "execution_count": 215,
      "outputs": [
        {
          "output_type": "execute_result",
          "data": {
            "text/plain": [
              "(300, 2)"
            ]
          },
          "metadata": {
            "tags": []
          },
          "execution_count": 215
        }
      ]
    },
    {
      "cell_type": "code",
      "metadata": {
        "id": "ukhmxtXRk1KA"
      },
      "source": [
        "X_train, X_test, y_train, y_test = train_test_split(sample_feat, katono, test_size=.25, random_state=34)"
      ],
      "execution_count": 216,
      "outputs": []
    },
    {
      "cell_type": "code",
      "metadata": {
        "colab": {
          "base_uri": "https://localhost:8080/"
        },
        "id": "Vf-JWbtPlAvo",
        "outputId": "35fe2669-cde6-4051-a9fa-1f01f2a32d17"
      },
      "source": [
        "model3 = SVC(kernel='poly', degree=3, gamma='auto', random_state=308)\n",
        "\n",
        "# Ill then train the model usin the training sets\n",
        "model3.fit(X_train, y_train)"
      ],
      "execution_count": 217,
      "outputs": [
        {
          "output_type": "execute_result",
          "data": {
            "text/plain": [
              "SVC(C=1.0, break_ties=False, cache_size=200, class_weight=None, coef0=0.0,\n",
              "    decision_function_shape='ovr', degree=3, gamma='auto', kernel='poly',\n",
              "    max_iter=-1, probability=False, random_state=308, shrinking=True, tol=0.001,\n",
              "    verbose=False)"
            ]
          },
          "metadata": {
            "tags": []
          },
          "execution_count": 217
        }
      ]
    },
    {
      "cell_type": "code",
      "metadata": {
        "colab": {
          "base_uri": "https://localhost:8080/",
          "height": 302
        },
        "id": "CDwq7mE3lzyt",
        "outputId": "6ab8577c-a908-475a-ac42-dc8c95285bbc"
      },
      "source": [
        "# visualizing the data points in the kernel\n",
        "# Create a mesh grid for our graph\n",
        "def make_meshgrid(x, y, h=.02):\n",
        "    x_min, x_max = x.min() - 1, x.max() + 1\n",
        "    y_min, y_max = y.min() - 1, y.max() + 1\n",
        "    xx, yy = np.meshgrid(np.arange(x_min, x_max, h), np.arange(y_min, y_max, h))\n",
        "    return xx, yy\n",
        "\n",
        "# A function that creates the hyperplanes from our model\n",
        "def plot_contours(ax, clf, xx, yy, **params):\n",
        "    Z = model3.predict(np.c_[xx.ravel(), yy.ravel()])\n",
        "    Z = Z.reshape(xx.shape)\n",
        "    out = ax.contourf(xx, yy, Z, **params)\n",
        "    return out\n",
        "\n",
        "fig, ax = plt.subplots()\n",
        "# title for the plots\n",
        "title = ('Flower Classification with polynomial SVC')\n",
        "\n",
        "# Set-up grid for plotting.\n",
        "# pol_sam = np.random.choice(polfeat[:, 0], 300)\n",
        "# pol_sam2 = np.random.choice(polfeat[:, 1], 300)\n",
        "X0, X1 = sample_feat[:, 0], sample_feat[:, 1]\n",
        "xx, yy = make_meshgrid(X0, X1)\n",
        "\n",
        "plot_contours(ax, model3, xx, yy, cmap=plt.cm.Paired, alpha=0.8)\n",
        "ax.scatter(X0, X1, c=poltar, cmap=plt.cm.Paired, s=20, edgecolors='k')\n",
        "# ax.set_ylabel()\n",
        "# ax.set_xlabel()\n",
        "ax.set_xticks(())\n",
        "ax.set_yticks(())\n",
        "ax.set_title(title)\n",
        "plt.show()"
      ],
      "execution_count": 218,
      "outputs": [
        {
          "output_type": "execute_result",
          "data": {
            "text/plain": [
              "<matplotlib.contour.QuadContourSet at 0x7f1a6616d910>"
            ]
          },
          "metadata": {
            "tags": []
          },
          "execution_count": 218
        },
        {
          "output_type": "execute_result",
          "data": {
            "text/plain": [
              "<matplotlib.collections.PathCollection at 0x7f1a5a2a2790>"
            ]
          },
          "metadata": {
            "tags": []
          },
          "execution_count": 218
        },
        {
          "output_type": "execute_result",
          "data": {
            "text/plain": [
              "[]"
            ]
          },
          "metadata": {
            "tags": []
          },
          "execution_count": 218
        },
        {
          "output_type": "execute_result",
          "data": {
            "text/plain": [
              "[]"
            ]
          },
          "metadata": {
            "tags": []
          },
          "execution_count": 218
        },
        {
          "output_type": "execute_result",
          "data": {
            "text/plain": [
              "Text(0.5, 1.0, 'Flower Classification with polynomial SVC')"
            ]
          },
          "metadata": {
            "tags": []
          },
          "execution_count": 218
        },
        {
          "output_type": "display_data",
          "data": {
            "image/png": "[encoded data removed]",
            "text/plain": [
              "<Figure size 432x288 with 1 Axes>"
            ]
          },
          "metadata": {
            "tags": []
          }
        }
      ]
    },
    {
      "cell_type": "markdown",
      "metadata": {
        "id": "wmJVnu_2rWmH"
      },
      "source": [
        "***Conclusion***\n",
        "\n",
        "Random Forests, Ada Boosted Trees, Gradient Boosted and SVCs are generally good prediction models for testing for hypothyroidism.\n",
        "\n"
      ]
    }
  ]
}